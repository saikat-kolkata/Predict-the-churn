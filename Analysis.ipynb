{
 "cells": [
  {
   "cell_type": "markdown",
   "metadata": {},
   "source": [
    "### <b>Predict the churn risk rate</b><p>\n",
    "Your task is to predict the churn score for a website based on the features provided in the dataset.\n"
   ]
  },
  {
   "cell_type": "code",
   "execution_count": 1,
   "metadata": {},
   "outputs": [],
   "source": [
    "#import libraries\n",
    "\n",
    "import numpy as np\n",
    "import pandas as pd\n",
    "import seaborn as sns\n",
    "import matplotlib.pyplot as plt\n",
    "\n",
    "pd.pandas.set_option('display.max_rows',None)\n",
    "pd.pandas.set_option('display.max_columns',None)"
   ]
  },
  {
   "cell_type": "code",
   "execution_count": 2,
   "metadata": {},
   "outputs": [],
   "source": [
    "#read the files and transfer to dataframe\n",
    "\n",
    "df_train = pd.read_csv('Train.csv')\n",
    "df_test = pd.read_csv('Test.csv')"
   ]
  },
  {
   "cell_type": "markdown",
   "metadata": {},
   "source": [
    "# Preliminary Analysis "
   ]
  },
  {
   "cell_type": "code",
   "execution_count": 3,
   "metadata": {},
   "outputs": [
    {
     "data": {
      "text/html": [
       "<div>\n",
       "<style scoped>\n",
       "    .dataframe tbody tr th:only-of-type {\n",
       "        vertical-align: middle;\n",
       "    }\n",
       "\n",
       "    .dataframe tbody tr th {\n",
       "        vertical-align: top;\n",
       "    }\n",
       "\n",
       "    .dataframe thead th {\n",
       "        text-align: right;\n",
       "    }\n",
       "</style>\n",
       "<table border=\"1\" class=\"dataframe\">\n",
       "  <thead>\n",
       "    <tr style=\"text-align: right;\">\n",
       "      <th></th>\n",
       "      <th>customer_id</th>\n",
       "      <th>Name</th>\n",
       "      <th>age</th>\n",
       "      <th>gender</th>\n",
       "      <th>security_no</th>\n",
       "      <th>region_category</th>\n",
       "      <th>membership_category</th>\n",
       "      <th>joining_date</th>\n",
       "      <th>joined_through_referral</th>\n",
       "      <th>referral_id</th>\n",
       "      <th>preferred_offer_types</th>\n",
       "      <th>medium_of_operation</th>\n",
       "      <th>internet_option</th>\n",
       "      <th>last_visit_time</th>\n",
       "      <th>days_since_last_login</th>\n",
       "      <th>avg_time_spent</th>\n",
       "      <th>avg_transaction_value</th>\n",
       "      <th>avg_frequency_login_days</th>\n",
       "      <th>points_in_wallet</th>\n",
       "      <th>used_special_discount</th>\n",
       "      <th>offer_application_preference</th>\n",
       "      <th>past_complaint</th>\n",
       "      <th>complaint_status</th>\n",
       "      <th>feedback</th>\n",
       "      <th>churn_risk_score</th>\n",
       "    </tr>\n",
       "  </thead>\n",
       "  <tbody>\n",
       "    <tr>\n",
       "      <th>0</th>\n",
       "      <td>fffe4300490044003600300030003800</td>\n",
       "      <td>Pattie Morrisey</td>\n",
       "      <td>18</td>\n",
       "      <td>F</td>\n",
       "      <td>XW0DQ7H</td>\n",
       "      <td>Village</td>\n",
       "      <td>Platinum Membership</td>\n",
       "      <td>2017-08-17</td>\n",
       "      <td>No</td>\n",
       "      <td>xxxxxxxx</td>\n",
       "      <td>Gift Vouchers/Coupons</td>\n",
       "      <td>?</td>\n",
       "      <td>Wi-Fi</td>\n",
       "      <td>16:08:02</td>\n",
       "      <td>17</td>\n",
       "      <td>300.63</td>\n",
       "      <td>53005.25</td>\n",
       "      <td>17.0</td>\n",
       "      <td>781.75</td>\n",
       "      <td>Yes</td>\n",
       "      <td>Yes</td>\n",
       "      <td>No</td>\n",
       "      <td>Not Applicable</td>\n",
       "      <td>Products always in Stock</td>\n",
       "      <td>2</td>\n",
       "    </tr>\n",
       "    <tr>\n",
       "      <th>1</th>\n",
       "      <td>fffe43004900440032003100300035003700</td>\n",
       "      <td>Traci Peery</td>\n",
       "      <td>32</td>\n",
       "      <td>F</td>\n",
       "      <td>5K0N3X1</td>\n",
       "      <td>City</td>\n",
       "      <td>Premium Membership</td>\n",
       "      <td>2017-08-28</td>\n",
       "      <td>?</td>\n",
       "      <td>CID21329</td>\n",
       "      <td>Gift Vouchers/Coupons</td>\n",
       "      <td>Desktop</td>\n",
       "      <td>Mobile_Data</td>\n",
       "      <td>12:38:13</td>\n",
       "      <td>16</td>\n",
       "      <td>306.34</td>\n",
       "      <td>12838.38</td>\n",
       "      <td>10.0</td>\n",
       "      <td>NaN</td>\n",
       "      <td>Yes</td>\n",
       "      <td>No</td>\n",
       "      <td>Yes</td>\n",
       "      <td>Solved</td>\n",
       "      <td>Quality Customer Care</td>\n",
       "      <td>1</td>\n",
       "    </tr>\n",
       "    <tr>\n",
       "      <th>2</th>\n",
       "      <td>fffe4300490044003100390032003600</td>\n",
       "      <td>Merideth Mcmeen</td>\n",
       "      <td>44</td>\n",
       "      <td>F</td>\n",
       "      <td>1F2TCL3</td>\n",
       "      <td>Town</td>\n",
       "      <td>No Membership</td>\n",
       "      <td>2016-11-11</td>\n",
       "      <td>Yes</td>\n",
       "      <td>CID12313</td>\n",
       "      <td>Gift Vouchers/Coupons</td>\n",
       "      <td>Desktop</td>\n",
       "      <td>Wi-Fi</td>\n",
       "      <td>22:53:21</td>\n",
       "      <td>14</td>\n",
       "      <td>516.16</td>\n",
       "      <td>21027.00</td>\n",
       "      <td>22.0</td>\n",
       "      <td>500.69</td>\n",
       "      <td>No</td>\n",
       "      <td>Yes</td>\n",
       "      <td>Yes</td>\n",
       "      <td>Solved in Follow-up</td>\n",
       "      <td>Poor Website</td>\n",
       "      <td>5</td>\n",
       "    </tr>\n",
       "    <tr>\n",
       "      <th>3</th>\n",
       "      <td>fffe43004900440036003000330031003600</td>\n",
       "      <td>Eufemia Cardwell</td>\n",
       "      <td>37</td>\n",
       "      <td>M</td>\n",
       "      <td>VJGJ33N</td>\n",
       "      <td>City</td>\n",
       "      <td>No Membership</td>\n",
       "      <td>2016-10-29</td>\n",
       "      <td>Yes</td>\n",
       "      <td>CID3793</td>\n",
       "      <td>Gift Vouchers/Coupons</td>\n",
       "      <td>Desktop</td>\n",
       "      <td>Mobile_Data</td>\n",
       "      <td>15:57:50</td>\n",
       "      <td>11</td>\n",
       "      <td>53.27</td>\n",
       "      <td>25239.56</td>\n",
       "      <td>6.0</td>\n",
       "      <td>567.66</td>\n",
       "      <td>No</td>\n",
       "      <td>Yes</td>\n",
       "      <td>Yes</td>\n",
       "      <td>Unsolved</td>\n",
       "      <td>Poor Website</td>\n",
       "      <td>5</td>\n",
       "    </tr>\n",
       "    <tr>\n",
       "      <th>4</th>\n",
       "      <td>fffe43004900440031003900350030003600</td>\n",
       "      <td>Meghan Kosak</td>\n",
       "      <td>31</td>\n",
       "      <td>F</td>\n",
       "      <td>SVZXCWB</td>\n",
       "      <td>City</td>\n",
       "      <td>No Membership</td>\n",
       "      <td>2017-09-12</td>\n",
       "      <td>No</td>\n",
       "      <td>xxxxxxxx</td>\n",
       "      <td>Credit/Debit Card Offers</td>\n",
       "      <td>Smartphone</td>\n",
       "      <td>Mobile_Data</td>\n",
       "      <td>15:46:44</td>\n",
       "      <td>20</td>\n",
       "      <td>113.13</td>\n",
       "      <td>24483.66</td>\n",
       "      <td>16.0</td>\n",
       "      <td>663.06</td>\n",
       "      <td>No</td>\n",
       "      <td>Yes</td>\n",
       "      <td>Yes</td>\n",
       "      <td>Solved</td>\n",
       "      <td>Poor Website</td>\n",
       "      <td>5</td>\n",
       "    </tr>\n",
       "  </tbody>\n",
       "</table>\n",
       "</div>"
      ],
      "text/plain": [
       "                            customer_id              Name  age gender  \\\n",
       "0      fffe4300490044003600300030003800   Pattie Morrisey   18      F   \n",
       "1  fffe43004900440032003100300035003700       Traci Peery   32      F   \n",
       "2      fffe4300490044003100390032003600   Merideth Mcmeen   44      F   \n",
       "3  fffe43004900440036003000330031003600  Eufemia Cardwell   37      M   \n",
       "4  fffe43004900440031003900350030003600      Meghan Kosak   31      F   \n",
       "\n",
       "  security_no region_category  membership_category joining_date  \\\n",
       "0     XW0DQ7H         Village  Platinum Membership   2017-08-17   \n",
       "1     5K0N3X1            City   Premium Membership   2017-08-28   \n",
       "2     1F2TCL3            Town        No Membership   2016-11-11   \n",
       "3     VJGJ33N            City        No Membership   2016-10-29   \n",
       "4     SVZXCWB            City        No Membership   2017-09-12   \n",
       "\n",
       "  joined_through_referral referral_id     preferred_offer_types  \\\n",
       "0                      No    xxxxxxxx     Gift Vouchers/Coupons   \n",
       "1                       ?    CID21329     Gift Vouchers/Coupons   \n",
       "2                     Yes    CID12313     Gift Vouchers/Coupons   \n",
       "3                     Yes     CID3793     Gift Vouchers/Coupons   \n",
       "4                      No    xxxxxxxx  Credit/Debit Card Offers   \n",
       "\n",
       "  medium_of_operation internet_option last_visit_time  days_since_last_login  \\\n",
       "0                   ?           Wi-Fi        16:08:02                     17   \n",
       "1             Desktop     Mobile_Data        12:38:13                     16   \n",
       "2             Desktop           Wi-Fi        22:53:21                     14   \n",
       "3             Desktop     Mobile_Data        15:57:50                     11   \n",
       "4          Smartphone     Mobile_Data        15:46:44                     20   \n",
       "\n",
       "   avg_time_spent  avg_transaction_value avg_frequency_login_days  \\\n",
       "0          300.63               53005.25                     17.0   \n",
       "1          306.34               12838.38                     10.0   \n",
       "2          516.16               21027.00                     22.0   \n",
       "3           53.27               25239.56                      6.0   \n",
       "4          113.13               24483.66                     16.0   \n",
       "\n",
       "   points_in_wallet used_special_discount offer_application_preference  \\\n",
       "0            781.75                   Yes                          Yes   \n",
       "1               NaN                   Yes                           No   \n",
       "2            500.69                    No                          Yes   \n",
       "3            567.66                    No                          Yes   \n",
       "4            663.06                    No                          Yes   \n",
       "\n",
       "  past_complaint     complaint_status                  feedback  \\\n",
       "0             No       Not Applicable  Products always in Stock   \n",
       "1            Yes               Solved     Quality Customer Care   \n",
       "2            Yes  Solved in Follow-up              Poor Website   \n",
       "3            Yes             Unsolved              Poor Website   \n",
       "4            Yes               Solved              Poor Website   \n",
       "\n",
       "   churn_risk_score  \n",
       "0                 2  \n",
       "1                 1  \n",
       "2                 5  \n",
       "3                 5  \n",
       "4                 5  "
      ]
     },
     "execution_count": 3,
     "metadata": {},
     "output_type": "execute_result"
    }
   ],
   "source": [
    "#show data\n",
    "\n",
    "df_train.head()"
   ]
  },
  {
   "cell_type": "code",
   "execution_count": 4,
   "metadata": {},
   "outputs": [
    {
     "name": "stdout",
     "output_type": "stream",
     "text": [
      "Size of train :  (36992, 25)\n",
      "\n",
      "Size of test :  (19919, 24)\n"
     ]
    }
   ],
   "source": [
    "print('Size of train : ', df_train.shape)\n",
    "print('\\nSize of test : ', df_test.shape)"
   ]
  },
  {
   "cell_type": "markdown",
   "metadata": {},
   "source": [
    "### Target field"
   ]
  },
  {
   "cell_type": "code",
   "execution_count": 5,
   "metadata": {},
   "outputs": [
    {
     "name": "stdout",
     "output_type": "stream",
     "text": [
      "Total no of unique values in target:  [ 2  1  5  3  4 -1]\n",
      "\n",
      " Unique value count\n",
      "  3    10424\n",
      " 4    10185\n",
      " 5     9827\n",
      " 2     2741\n",
      " 1     2652\n",
      "-1     1163\n",
      "Name: churn_risk_score, dtype: int64\n"
     ]
    }
   ],
   "source": [
    "#target field \n",
    "\n",
    "print('Total no of unique values in target: ',df_train.churn_risk_score.unique())\n",
    "print('\\n Unique value count\\n', df_train.churn_risk_score.value_counts())"
   ]
  },
  {
   "cell_type": "markdown",
   "metadata": {},
   "source": [
    "#### Why there is -ve target value? Either we have to remove the -ves or take the absolute value "
   ]
  },
  {
   "cell_type": "markdown",
   "metadata": {},
   "source": [
    "---\n"
   ]
  },
  {
   "cell_type": "markdown",
   "metadata": {},
   "source": [
    "## Unique fields"
   ]
  },
  {
   "cell_type": "code",
   "execution_count": 6,
   "metadata": {},
   "outputs": [
    {
     "name": "stdout",
     "output_type": "stream",
     "text": [
      "Unique id :  36992\n",
      "\n",
      "Unique id :  36992\n",
      "\n",
      "security_no :  36992\n"
     ]
    }
   ],
   "source": [
    "#no of unique count of two fields\n",
    "\n",
    "print('Unique id : ', df_train.customer_id.nunique())\n",
    "print('\\nUnique id : ', df_train.Name.nunique())\n",
    "print('\\nsecurity_no : ', df_train.security_no.nunique())"
   ]
  },
  {
   "cell_type": "markdown",
   "metadata": {},
   "source": [
    "#### customer_id, Name, security_no fields are unique and so may be dropped "
   ]
  },
  {
   "cell_type": "markdown",
   "metadata": {},
   "source": [
    "### referral_id"
   ]
  },
  {
   "cell_type": "code",
   "execution_count": 7,
   "metadata": {},
   "outputs": [
    {
     "data": {
      "text/plain": [
       "11359"
      ]
     },
     "execution_count": 7,
     "metadata": {},
     "output_type": "execute_result"
    }
   ],
   "source": [
    "df_train.referral_id.nunique()"
   ]
  },
  {
   "cell_type": "markdown",
   "metadata": {},
   "source": [
    "#### referral_id May be dropped because of high cardinality "
   ]
  },
  {
   "cell_type": "markdown",
   "metadata": {},
   "source": [
    "### age"
   ]
  },
  {
   "cell_type": "code",
   "execution_count": 8,
   "metadata": {
    "slideshow": {
     "slide_type": "-"
    }
   },
   "outputs": [
    {
     "data": {
      "text/plain": [
       "<matplotlib.axes._subplots.AxesSubplot at 0x2615ca00fd0>"
      ]
     },
     "execution_count": 8,
     "metadata": {},
     "output_type": "execute_result"
    },
    {
     "data": {
      "image/png": "[encoded data removed]",
      "text/plain": [
       "<Figure size 432x288 with 1 Axes>"
      ]
     },
     "metadata": {
      "needs_background": "light"
     },
     "output_type": "display_data"
    }
   ],
   "source": [
    "# distribution of age field\n",
    "\n",
    "sns.distplot(df_train.age)"
   ]
  },
  {
   "cell_type": "code",
   "execution_count": 9,
   "metadata": {},
   "outputs": [
    {
     "data": {
      "text/plain": [
       "count    36992.000000\n",
       "mean        37.118161\n",
       "std         15.867412\n",
       "min         10.000000\n",
       "25%         23.000000\n",
       "50%         37.000000\n",
       "75%         51.000000\n",
       "max         64.000000\n",
       "Name: age, dtype: float64"
      ]
     },
     "execution_count": 9,
     "metadata": {},
     "output_type": "execute_result"
    }
   ],
   "source": [
    "df_train.age.describe()"
   ]
  },
  {
   "cell_type": "markdown",
   "metadata": {},
   "source": [
    "## Check of Nulls "
   ]
  },
  {
   "cell_type": "code",
   "execution_count": 10,
   "metadata": {},
   "outputs": [
    {
     "name": "stdout",
     "output_type": "stream",
     "text": [
      "region_category  has null values :  5428 and % of total is :  0.14673442906574394\n",
      "preferred_offer_types  has null values :  288 and % of total is :  0.007785467128027681\n",
      "points_in_wallet  has null values :  3443 and % of total is :  0.09307417820069204\n"
     ]
    }
   ],
   "source": [
    "#train set\n",
    "column = df_train.columns\n",
    "for var in column:\n",
    "    if df_train[var].isnull().sum()>0:\n",
    "        print(var, ' has null values : ', df_train[var].isnull().sum(), 'and % of total is : ', df_train[var].isnull().sum()/len(df_train))"
   ]
  },
  {
   "cell_type": "code",
   "execution_count": 11,
   "metadata": {},
   "outputs": [
    {
     "name": "stdout",
     "output_type": "stream",
     "text": [
      "region_category  has null values :  2948 and % of total is :  0.14799939756011848\n",
      "preferred_offer_types  has null values :  159 and % of total is :  0.007982328430142075\n",
      "points_in_wallet  has null values :  1963 and % of total is :  0.09854912395200563\n"
     ]
    }
   ],
   "source": [
    "#test set\n",
    "column_t = df_test.columns\n",
    "for var in column_t:\n",
    "    if df_test[var].isnull().sum()>0:\n",
    "        print(var, ' has null values : ', df_test[var].isnull().sum(), 'and % of total is : ', df_test[var].isnull().sum()/len(df_test))"
   ]
  },
  {
   "cell_type": "markdown",
   "metadata": {},
   "source": [
    "## Check of categorical values"
   ]
  },
  {
   "cell_type": "code",
   "execution_count": 12,
   "metadata": {},
   "outputs": [
    {
     "name": "stdout",
     "output_type": "stream",
     "text": [
      "\n",
      " region_category\n",
      "Town       14128\n",
      "City       12737\n",
      "Village     4699\n",
      "Name: region_category, dtype: int64\n",
      "\n",
      " membership_category\n",
      "Basic Membership       7724\n",
      "No Membership          7692\n",
      "Gold Membership        6795\n",
      "Silver Membership      5988\n",
      "Premium Membership     4455\n",
      "Platinum Membership    4338\n",
      "Name: membership_category, dtype: int64\n",
      "\n",
      " joined_through_referral\n",
      "No     15839\n",
      "Yes    15715\n",
      "?       5438\n",
      "Name: joined_through_referral, dtype: int64\n",
      "\n",
      " preferred_offer_types\n",
      "Gift Vouchers/Coupons       12349\n",
      "Credit/Debit Card Offers    12274\n",
      "Without Offers              12081\n",
      "Name: preferred_offer_types, dtype: int64\n",
      "\n",
      " medium_of_operation\n",
      "Desktop       13913\n",
      "Smartphone    13876\n",
      "?              5393\n",
      "Both           3810\n",
      "Name: medium_of_operation, dtype: int64\n",
      "\n",
      " internet_option\n",
      "Wi-Fi          12413\n",
      "Mobile_Data    12343\n",
      "Fiber_Optic    12236\n",
      "Name: internet_option, dtype: int64\n",
      "\n",
      " used_special_discount\n",
      "Yes    20342\n",
      "No     16650\n",
      "Name: used_special_discount, dtype: int64\n",
      "\n",
      " offer_application_preference\n",
      "Yes    20440\n",
      "No     16552\n",
      "Name: offer_application_preference, dtype: int64\n",
      "\n",
      " past_complaint\n",
      "No     18602\n",
      "Yes    18390\n",
      "Name: past_complaint, dtype: int64\n",
      "\n",
      " complaint_status\n",
      "Not Applicable              18602\n",
      "Unsolved                     4644\n",
      "Solved                       4619\n",
      "Solved in Follow-up          4577\n",
      "No Information Available     4550\n",
      "Name: complaint_status, dtype: int64\n",
      "\n",
      " feedback\n",
      "Poor Product Quality        6350\n",
      "No reason specified         6290\n",
      "Too many ads                6279\n",
      "Poor Website                6271\n",
      "Poor Customer Service       6252\n",
      "Reasonable Price            1417\n",
      "User Friendly Website       1391\n",
      "Products always in Stock    1382\n",
      "Quality Customer Care       1360\n",
      "Name: feedback, dtype: int64\n"
     ]
    }
   ],
   "source": [
    "#unique value count of categorical fields\n",
    "\n",
    "cat_col = ['region_category','membership_category','joined_through_referral','preferred_offer_types', 'medium_of_operation', 'internet_option','used_special_discount','offer_application_preference','past_complaint','complaint_status', 'feedback'] \n",
    "for val in cat_col:\n",
    "    print('\\n', val)\n",
    "    print(df_train[val].value_counts())"
   ]
  },
  {
   "cell_type": "markdown",
   "metadata": {},
   "source": [
    "# Feature Transformation and Engineering"
   ]
  },
  {
   "cell_type": "markdown",
   "metadata": {},
   "source": [
    "- Drop fields with high cardinality e.g. customer_id, Name, security_no fields\n",
    "- Converts fields with yes no to 0,1 \n",
    "- Convert fields with error values to legitimate values"
   ]
  },
  {
   "cell_type": "code",
   "execution_count": 13,
   "metadata": {},
   "outputs": [],
   "source": [
    "#copy customer id of test data \n",
    "\n",
    "test_df_cus_id = df_test.customer_id"
   ]
  },
  {
   "cell_type": "code",
   "execution_count": 14,
   "metadata": {},
   "outputs": [],
   "source": [
    "#Joined_through_referral field has saome rows marked with '?', so we'll check corresponding referral_id column has some\n",
    "#significance id or not, if the field has significance value we'll replace it with yes otherwise no\n",
    "\n",
    "df_train.joined_through_referral = np.where(((df_train.joined_through_referral=='?') & (df_train.referral_id=='xxxxxxxx')),'No',df_train.joined_through_referral)\n",
    "df_train.joined_through_referral = np.where(((df_train.joined_through_referral=='?') & (df_train.referral_id!='xxxxxxxx')),'Yes',df_train.joined_through_referral)\n",
    "\n",
    "\n",
    "df_test.joined_through_referral = np.where(((df_test.joined_through_referral=='?') & (df_test.referral_id=='xxxxxxxx')),'No',df_test.joined_through_referral)\n",
    "df_test.joined_through_referral = np.where(((df_test.joined_through_referral=='?') & (df_test.referral_id!='xxxxxxxx')),'Yes',df_test.joined_through_referral)\n"
   ]
  },
  {
   "cell_type": "code",
   "execution_count": 15,
   "metadata": {},
   "outputs": [
    {
     "data": {
      "text/plain": [
       "Yes    20592\n",
       "No     16400\n",
       "Name: joined_through_referral, dtype: int64"
      ]
     },
     "execution_count": 15,
     "metadata": {},
     "output_type": "execute_result"
    }
   ],
   "source": [
    "#after imputation \n",
    "\n",
    "df_train.joined_through_referral.value_counts()"
   ]
  },
  {
   "cell_type": "code",
   "execution_count": 16,
   "metadata": {},
   "outputs": [],
   "source": [
    "#Drop 'customer_id', 'Name', 'security_no' from train and test set\n",
    "\n",
    "df_train = df_train.drop(['customer_id', 'Name', 'security_no','referral_id'],axis=1)\n",
    "df_test = df_test.drop(['customer_id', 'Name', 'security_no','referral_id'],axis=1)"
   ]
  },
  {
   "cell_type": "code",
   "execution_count": 17,
   "metadata": {},
   "outputs": [],
   "source": [
    "#Yes/No fields converted to 0 and 1\n",
    "\n",
    "binary_dic={'Yes':1,'No':0}\n",
    "\n",
    "df_train.joined_through_referral = df_train.joined_through_referral.map(binary_dic)\n",
    "df_test.joined_through_referral = df_test.joined_through_referral.map(binary_dic)\n",
    "\n",
    "\n",
    "df_train.used_special_discount = df_train.used_special_discount.map(binary_dic)\n",
    "df_test.used_special_discount = df_test.used_special_discount.map(binary_dic)\n",
    "\n",
    "df_train.offer_application_preference = df_train.offer_application_preference.map(binary_dic)\n",
    "df_test.offer_application_preference = df_test.offer_application_preference.map(binary_dic)\n",
    "\n",
    "\n",
    "df_train.past_complaint = df_train.past_complaint.map(binary_dic)\n",
    "df_test.past_complaint = df_test.past_complaint.map(binary_dic)\n"
   ]
  },
  {
   "cell_type": "code",
   "execution_count": 18,
   "metadata": {},
   "outputs": [
    {
     "data": {
      "text/html": [
       "<div>\n",
       "<style scoped>\n",
       "    .dataframe tbody tr th:only-of-type {\n",
       "        vertical-align: middle;\n",
       "    }\n",
       "\n",
       "    .dataframe tbody tr th {\n",
       "        vertical-align: top;\n",
       "    }\n",
       "\n",
       "    .dataframe thead th {\n",
       "        text-align: right;\n",
       "    }\n",
       "</style>\n",
       "<table border=\"1\" class=\"dataframe\">\n",
       "  <thead>\n",
       "    <tr style=\"text-align: right;\">\n",
       "      <th></th>\n",
       "      <th>age</th>\n",
       "      <th>gender</th>\n",
       "      <th>region_category</th>\n",
       "      <th>membership_category</th>\n",
       "      <th>joining_date</th>\n",
       "      <th>joined_through_referral</th>\n",
       "      <th>preferred_offer_types</th>\n",
       "      <th>medium_of_operation</th>\n",
       "      <th>internet_option</th>\n",
       "      <th>last_visit_time</th>\n",
       "      <th>days_since_last_login</th>\n",
       "      <th>avg_time_spent</th>\n",
       "      <th>avg_transaction_value</th>\n",
       "      <th>avg_frequency_login_days</th>\n",
       "      <th>points_in_wallet</th>\n",
       "      <th>used_special_discount</th>\n",
       "      <th>offer_application_preference</th>\n",
       "      <th>past_complaint</th>\n",
       "      <th>complaint_status</th>\n",
       "      <th>feedback</th>\n",
       "      <th>churn_risk_score</th>\n",
       "    </tr>\n",
       "  </thead>\n",
       "  <tbody>\n",
       "    <tr>\n",
       "      <th>0</th>\n",
       "      <td>18</td>\n",
       "      <td>F</td>\n",
       "      <td>Village</td>\n",
       "      <td>Platinum Membership</td>\n",
       "      <td>2017-08-17</td>\n",
       "      <td>0</td>\n",
       "      <td>Gift Vouchers/Coupons</td>\n",
       "      <td>?</td>\n",
       "      <td>Wi-Fi</td>\n",
       "      <td>16:08:02</td>\n",
       "      <td>17</td>\n",
       "      <td>300.63</td>\n",
       "      <td>53005.25</td>\n",
       "      <td>17.0</td>\n",
       "      <td>781.75</td>\n",
       "      <td>1</td>\n",
       "      <td>1</td>\n",
       "      <td>0</td>\n",
       "      <td>Not Applicable</td>\n",
       "      <td>Products always in Stock</td>\n",
       "      <td>2</td>\n",
       "    </tr>\n",
       "    <tr>\n",
       "      <th>1</th>\n",
       "      <td>32</td>\n",
       "      <td>F</td>\n",
       "      <td>City</td>\n",
       "      <td>Premium Membership</td>\n",
       "      <td>2017-08-28</td>\n",
       "      <td>1</td>\n",
       "      <td>Gift Vouchers/Coupons</td>\n",
       "      <td>Desktop</td>\n",
       "      <td>Mobile_Data</td>\n",
       "      <td>12:38:13</td>\n",
       "      <td>16</td>\n",
       "      <td>306.34</td>\n",
       "      <td>12838.38</td>\n",
       "      <td>10.0</td>\n",
       "      <td>NaN</td>\n",
       "      <td>1</td>\n",
       "      <td>0</td>\n",
       "      <td>1</td>\n",
       "      <td>Solved</td>\n",
       "      <td>Quality Customer Care</td>\n",
       "      <td>1</td>\n",
       "    </tr>\n",
       "    <tr>\n",
       "      <th>2</th>\n",
       "      <td>44</td>\n",
       "      <td>F</td>\n",
       "      <td>Town</td>\n",
       "      <td>No Membership</td>\n",
       "      <td>2016-11-11</td>\n",
       "      <td>1</td>\n",
       "      <td>Gift Vouchers/Coupons</td>\n",
       "      <td>Desktop</td>\n",
       "      <td>Wi-Fi</td>\n",
       "      <td>22:53:21</td>\n",
       "      <td>14</td>\n",
       "      <td>516.16</td>\n",
       "      <td>21027.00</td>\n",
       "      <td>22.0</td>\n",
       "      <td>500.69</td>\n",
       "      <td>0</td>\n",
       "      <td>1</td>\n",
       "      <td>1</td>\n",
       "      <td>Solved in Follow-up</td>\n",
       "      <td>Poor Website</td>\n",
       "      <td>5</td>\n",
       "    </tr>\n",
       "    <tr>\n",
       "      <th>3</th>\n",
       "      <td>37</td>\n",
       "      <td>M</td>\n",
       "      <td>City</td>\n",
       "      <td>No Membership</td>\n",
       "      <td>2016-10-29</td>\n",
       "      <td>1</td>\n",
       "      <td>Gift Vouchers/Coupons</td>\n",
       "      <td>Desktop</td>\n",
       "      <td>Mobile_Data</td>\n",
       "      <td>15:57:50</td>\n",
       "      <td>11</td>\n",
       "      <td>53.27</td>\n",
       "      <td>25239.56</td>\n",
       "      <td>6.0</td>\n",
       "      <td>567.66</td>\n",
       "      <td>0</td>\n",
       "      <td>1</td>\n",
       "      <td>1</td>\n",
       "      <td>Unsolved</td>\n",
       "      <td>Poor Website</td>\n",
       "      <td>5</td>\n",
       "    </tr>\n",
       "    <tr>\n",
       "      <th>4</th>\n",
       "      <td>31</td>\n",
       "      <td>F</td>\n",
       "      <td>City</td>\n",
       "      <td>No Membership</td>\n",
       "      <td>2017-09-12</td>\n",
       "      <td>0</td>\n",
       "      <td>Credit/Debit Card Offers</td>\n",
       "      <td>Smartphone</td>\n",
       "      <td>Mobile_Data</td>\n",
       "      <td>15:46:44</td>\n",
       "      <td>20</td>\n",
       "      <td>113.13</td>\n",
       "      <td>24483.66</td>\n",
       "      <td>16.0</td>\n",
       "      <td>663.06</td>\n",
       "      <td>0</td>\n",
       "      <td>1</td>\n",
       "      <td>1</td>\n",
       "      <td>Solved</td>\n",
       "      <td>Poor Website</td>\n",
       "      <td>5</td>\n",
       "    </tr>\n",
       "  </tbody>\n",
       "</table>\n",
       "</div>"
      ],
      "text/plain": [
       "   age gender region_category  membership_category joining_date  \\\n",
       "0   18      F         Village  Platinum Membership   2017-08-17   \n",
       "1   32      F            City   Premium Membership   2017-08-28   \n",
       "2   44      F            Town        No Membership   2016-11-11   \n",
       "3   37      M            City        No Membership   2016-10-29   \n",
       "4   31      F            City        No Membership   2017-09-12   \n",
       "\n",
       "   joined_through_referral     preferred_offer_types medium_of_operation  \\\n",
       "0                        0     Gift Vouchers/Coupons                   ?   \n",
       "1                        1     Gift Vouchers/Coupons             Desktop   \n",
       "2                        1     Gift Vouchers/Coupons             Desktop   \n",
       "3                        1     Gift Vouchers/Coupons             Desktop   \n",
       "4                        0  Credit/Debit Card Offers          Smartphone   \n",
       "\n",
       "  internet_option last_visit_time  days_since_last_login  avg_time_spent  \\\n",
       "0           Wi-Fi        16:08:02                     17          300.63   \n",
       "1     Mobile_Data        12:38:13                     16          306.34   \n",
       "2           Wi-Fi        22:53:21                     14          516.16   \n",
       "3     Mobile_Data        15:57:50                     11           53.27   \n",
       "4     Mobile_Data        15:46:44                     20          113.13   \n",
       "\n",
       "   avg_transaction_value avg_frequency_login_days  points_in_wallet  \\\n",
       "0               53005.25                     17.0            781.75   \n",
       "1               12838.38                     10.0               NaN   \n",
       "2               21027.00                     22.0            500.69   \n",
       "3               25239.56                      6.0            567.66   \n",
       "4               24483.66                     16.0            663.06   \n",
       "\n",
       "   used_special_discount  offer_application_preference  past_complaint  \\\n",
       "0                      1                             1               0   \n",
       "1                      1                             0               1   \n",
       "2                      0                             1               1   \n",
       "3                      0                             1               1   \n",
       "4                      0                             1               1   \n",
       "\n",
       "      complaint_status                  feedback  churn_risk_score  \n",
       "0       Not Applicable  Products always in Stock                 2  \n",
       "1               Solved     Quality Customer Care                 1  \n",
       "2  Solved in Follow-up              Poor Website                 5  \n",
       "3             Unsolved              Poor Website                 5  \n",
       "4               Solved              Poor Website                 5  "
      ]
     },
     "execution_count": 18,
     "metadata": {},
     "output_type": "execute_result"
    }
   ],
   "source": [
    "df_train.head()"
   ]
  },
  {
   "cell_type": "markdown",
   "metadata": {},
   "source": [
    "### Null Treatment"
   ]
  },
  {
   "cell_type": "code",
   "execution_count": 19,
   "metadata": {},
   "outputs": [
    {
     "data": {
      "text/plain": [
       "count    33549.000000\n",
       "mean       686.882199\n",
       "std        194.063624\n",
       "min       -760.661236\n",
       "25%        616.150000\n",
       "50%        697.620000\n",
       "75%        763.950000\n",
       "max       2069.069761\n",
       "Name: points_in_wallet, dtype: float64"
      ]
     },
     "execution_count": 19,
     "metadata": {},
     "output_type": "execute_result"
    }
   ],
   "source": [
    "df_train.points_in_wallet.describe()"
   ]
  },
  {
   "cell_type": "code",
   "execution_count": 20,
   "metadata": {},
   "outputs": [
    {
     "data": {
      "text/plain": [
       "0    705.07\n",
       "dtype: float64"
      ]
     },
     "execution_count": 20,
     "metadata": {},
     "output_type": "execute_result"
    }
   ],
   "source": [
    "df_train.points_in_wallet.mode()"
   ]
  },
  {
   "cell_type": "code",
   "execution_count": 21,
   "metadata": {},
   "outputs": [
    {
     "data": {
      "text/plain": [
       "<matplotlib.axes._subplots.AxesSubplot at 0x2615dcc8c10>"
      ]
     },
     "execution_count": 21,
     "metadata": {},
     "output_type": "execute_result"
    },
    {
     "data": {
      "image/png": "[encoded data removed]",
      "text/plain": [
       "<Figure size 432x288 with 1 Axes>"
      ]
     },
     "metadata": {
      "needs_background": "light"
     },
     "output_type": "display_data"
    }
   ],
   "source": [
    "sns.distplot(df_train.points_in_wallet)"
   ]
  },
  {
   "cell_type": "code",
   "execution_count": 22,
   "metadata": {},
   "outputs": [
    {
     "data": {
      "text/plain": [
       "136"
      ]
     },
     "execution_count": 22,
     "metadata": {},
     "output_type": "execute_result"
    }
   ],
   "source": [
    "len(df_train[df_train['points_in_wallet']<0])"
   ]
  },
  {
   "cell_type": "markdown",
   "metadata": {},
   "source": [
    "### 136 rows has -ve values"
   ]
  },
  {
   "cell_type": "code",
   "execution_count": 23,
   "metadata": {},
   "outputs": [],
   "source": [
    "# df_train.region_category.ffill(inplace=True) Town\n",
    "# df_test.region_category.ffill(inplace=True)\n",
    "\n",
    "df_train.region_category.fillna('Town',inplace=True) #Repalced with most frequent value\n",
    "df_test.region_category.fillna('Town',inplace=True)\n",
    "\n",
    "\n",
    "df_train.preferred_offer_types.ffill(inplace=True) #random filling\n",
    "df_test.preferred_offer_types.ffill(inplace=True)\n",
    "\n",
    "\n",
    "df_train.points_in_wallet.fillna(value=687,inplace=True) #Repalced with mean value\n",
    "df_test.points_in_wallet.fillna(value=687,inplace=True)"
   ]
  },
  {
   "cell_type": "markdown",
   "metadata": {},
   "source": [
    "### Also, some fields has error values"
   ]
  },
  {
   "cell_type": "code",
   "execution_count": 24,
   "metadata": {},
   "outputs": [
    {
     "data": {
      "text/plain": [
       "3522"
      ]
     },
     "execution_count": 24,
     "metadata": {},
     "output_type": "execute_result"
    }
   ],
   "source": [
    "len(df_train[df_train['avg_frequency_login_days']=='Error']) # no of rows with term 'Error'"
   ]
  },
  {
   "cell_type": "code",
   "execution_count": 25,
   "metadata": {},
   "outputs": [
    {
     "data": {
      "text/plain": [
       "Error    3522\n",
       "13.0     1394\n",
       "19.0     1365\n",
       "8.0      1361\n",
       "14.0     1355\n",
       "Name: avg_frequency_login_days, dtype: int64"
      ]
     },
     "execution_count": 25,
     "metadata": {},
     "output_type": "execute_result"
    }
   ],
   "source": [
    "# value count of top frequencies of the field avg_frequency_login_days\n",
    "\n",
    "df_train['avg_frequency_login_days'].value_counts().head()"
   ]
  },
  {
   "cell_type": "markdown",
   "metadata": {},
   "source": [
    "**The numerical field has 3522 record term as 'Error', other than that 13 is the most occured no, so for testing we are going to relace Error with 13**"
   ]
  },
  {
   "cell_type": "code",
   "execution_count": 26,
   "metadata": {},
   "outputs": [],
   "source": [
    "## We are filling value of ERROR with 13 for now\n",
    "\n",
    "df_train['avg_frequency_login_days'] =np.where(df_train['avg_frequency_login_days']=='Error',13,df_train['avg_frequency_login_days'])\n",
    "\n",
    "df_test['avg_frequency_login_days'] =np.where(df_test['avg_frequency_login_days']=='Error',13,df_test['avg_frequency_login_days'])"
   ]
  },
  {
   "cell_type": "code",
   "execution_count": 27,
   "metadata": {},
   "outputs": [],
   "source": [
    "#convert the datatye from object to float\n",
    "\n",
    "df_train['avg_frequency_login_days']=df_train['avg_frequency_login_days'].astype('float64')\n",
    "df_test['avg_frequency_login_days']=df_test['avg_frequency_login_days'].astype('float64')"
   ]
  },
  {
   "cell_type": "markdown",
   "metadata": {},
   "source": [
    "---"
   ]
  },
  {
   "cell_type": "code",
   "execution_count": 28,
   "metadata": {},
   "outputs": [
    {
     "data": {
      "text/plain": [
       "1999"
      ]
     },
     "execution_count": 28,
     "metadata": {},
     "output_type": "execute_result"
    }
   ],
   "source": [
    "len(df_train[df_train['days_since_last_login']==-999])"
   ]
  },
  {
   "cell_type": "markdown",
   "metadata": {},
   "source": [
    "1999 rows has -999 values for **days_since_last_login**"
   ]
  },
  {
   "cell_type": "code",
   "execution_count": 29,
   "metadata": {},
   "outputs": [
    {
     "data": {
      "text/plain": [
       "<matplotlib.axes._subplots.AxesSubplot at 0x2615dfa3940>"
      ]
     },
     "execution_count": 29,
     "metadata": {},
     "output_type": "execute_result"
    },
    {
     "data": {
      "image/png": "[encoded data removed]",
      "text/plain": [
       "<Figure size 432x288 with 1 Axes>"
      ]
     },
     "metadata": {
      "needs_background": "light"
     },
     "output_type": "display_data"
    }
   ],
   "source": [
    "sns.distplot(df_train['days_since_last_login'])"
   ]
  },
  {
   "cell_type": "code",
   "execution_count": 30,
   "metadata": {},
   "outputs": [
    {
     "data": {
      "text/plain": [
       "count    34993.000000\n",
       "mean        12.758552\n",
       "std          5.572600\n",
       "min          1.000000\n",
       "25%          9.000000\n",
       "50%         13.000000\n",
       "75%         17.000000\n",
       "max         26.000000\n",
       "Name: days_since_last_login, dtype: float64"
      ]
     },
     "execution_count": 30,
     "metadata": {},
     "output_type": "execute_result"
    }
   ],
   "source": [
    "#Other than -999 the field days_since_last_login has following statistics\n",
    "\n",
    "df_train['days_since_last_login'][df_train['days_since_last_login']!=-999].describe()"
   ]
  },
  {
   "cell_type": "code",
   "execution_count": 31,
   "metadata": {},
   "outputs": [
    {
     "data": {
      "text/plain": [
       "13.0"
      ]
     },
     "execution_count": 31,
     "metadata": {},
     "output_type": "execute_result"
    }
   ],
   "source": [
    "#median value of the same.\n",
    "df_train['days_since_last_login'][df_train['days_since_last_login']!=-999].median()"
   ]
  },
  {
   "cell_type": "code",
   "execution_count": 32,
   "metadata": {},
   "outputs": [],
   "source": [
    "# we'll replace -999 with 13 or 0 and check\n",
    "\n",
    "# df_train.days_since_last_login = np.where((df_train.days_since_last_login==-999),13,df_train.days_since_last_login)\n",
    "# df_test.days_since_last_login = np.where((df_test.days_since_last_login==-999),13,df_test.days_since_last_login)"
   ]
  },
  {
   "cell_type": "code",
   "execution_count": 33,
   "metadata": {},
   "outputs": [],
   "source": [
    "#taking absolute values in days_since_last_login\n",
    "\n",
    "df_train['days_since_last_login']=abs(df_train['days_since_last_login'])\n",
    "df_test['days_since_last_login']=abs(df_test['days_since_last_login'])\n"
   ]
  },
  {
   "cell_type": "code",
   "execution_count": 34,
   "metadata": {},
   "outputs": [
    {
     "data": {
      "text/plain": [
       "136"
      ]
     },
     "execution_count": 34,
     "metadata": {},
     "output_type": "execute_result"
    }
   ],
   "source": [
    "len(df_train[df_train['points_in_wallet']<0])"
   ]
  },
  {
   "cell_type": "code",
   "execution_count": 35,
   "metadata": {},
   "outputs": [],
   "source": [
    "#taking absolute values in points_in_wallet\n",
    "\n",
    "df_train['points_in_wallet']=abs(df_train['points_in_wallet'])\n",
    "df_test['points_in_wallet']=abs(df_test['points_in_wallet'])\n",
    "\n"
   ]
  },
  {
   "cell_type": "code",
   "execution_count": 36,
   "metadata": {},
   "outputs": [],
   "source": [
    "#taking absolute values in avg_time_spent\n",
    "\n",
    "df_train['avg_time_spent']=abs(df_train['avg_time_spent'])\n",
    "df_test['avg_time_spent']=abs(df_test['avg_time_spent'])\n"
   ]
  },
  {
   "cell_type": "markdown",
   "metadata": {},
   "source": [
    "**medium_of_operation has a ? in data which we'll replace if corresponding internet_option is Mobile_Data then Smartphone else  Desktop**\n",
    "- #before transformation value count\n",
    "- Desktop       13913\n",
    "- Smartphone    13876\n",
    "- ?              5393\n",
    "- Both           3810"
   ]
  },
  {
   "cell_type": "code",
   "execution_count": 37,
   "metadata": {},
   "outputs": [],
   "source": [
    "df_train.medium_of_operation = np.where(((df_train.medium_of_operation=='?') & (df_train.internet_option=='Mobile_Data')),'Smartphone',df_train.medium_of_operation)\n",
    "df_train.medium_of_operation = np.where(((df_train.medium_of_operation=='?') & (df_train.internet_option!='Mobile_Data')),'Desktop',df_train.medium_of_operation)\n",
    "\n",
    "\n",
    "df_test.medium_of_operation = np.where(((df_test.medium_of_operation=='?') & (df_test.internet_option=='Mobile_Data')),'Smartphone',df_test.medium_of_operation)\n",
    "df_test.medium_of_operation = np.where(((df_test.medium_of_operation=='?') & (df_test.internet_option!='Mobile_Data')),'Desktop',df_test.medium_of_operation)"
   ]
  },
  {
   "cell_type": "code",
   "execution_count": 38,
   "metadata": {},
   "outputs": [
    {
     "data": {
      "text/plain": [
       "Desktop       17457\n",
       "Smartphone    15725\n",
       "Both           3810\n",
       "Name: medium_of_operation, dtype: int64"
      ]
     },
     "execution_count": 38,
     "metadata": {},
     "output_type": "execute_result"
    }
   ],
   "source": [
    "#after transformation value count\n",
    "\n",
    "df_train.medium_of_operation.value_counts()"
   ]
  },
  {
   "cell_type": "markdown",
   "metadata": {},
   "source": [
    "### churn_risk_score field has values -1,so we're taking absolute value to avoid -ve target variable which is unreal"
   ]
  },
  {
   "cell_type": "code",
   "execution_count": 39,
   "metadata": {},
   "outputs": [],
   "source": [
    "df_train.churn_risk_score = abs(df_train.churn_risk_score)"
   ]
  },
  {
   "cell_type": "code",
   "execution_count": 40,
   "metadata": {},
   "outputs": [],
   "source": [
    "### We are going to remove the rows where target variable is -ve\n",
    "\n",
    "# df_train = df_train[df_train['churn_risk_score']>=0] #NOT WORKING"
   ]
  },
  {
   "cell_type": "code",
   "execution_count": 41,
   "metadata": {},
   "outputs": [
    {
     "data": {
      "text/plain": [
       "3    10424\n",
       "4    10185\n",
       "5     9827\n",
       "1     3815\n",
       "2     2741\n",
       "Name: churn_risk_score, dtype: int64"
      ]
     },
     "execution_count": 41,
     "metadata": {},
     "output_type": "execute_result"
    }
   ],
   "source": [
    "df_train.churn_risk_score.value_counts()"
   ]
  },
  {
   "cell_type": "markdown",
   "metadata": {},
   "source": [
    "- ### Creating dummy for categorical variable"
   ]
  },
  {
   "cell_type": "code",
   "execution_count": 42,
   "metadata": {},
   "outputs": [],
   "source": [
    "dum_var = ['gender','region_category','membership_category','preferred_offer_types','medium_of_operation','internet_option','complaint_status','feedback'] #feedback\n",
    "    \n",
    "for var in dum_var:\n",
    "    df_train = pd.get_dummies(df_train,columns=[var])\n",
    "    df_test = pd.get_dummies(df_test,columns=[var])"
   ]
  },
  {
   "cell_type": "markdown",
   "metadata": {},
   "source": [
    "### Transform joining_date column to year,month  and week"
   ]
  },
  {
   "cell_type": "code",
   "execution_count": 43,
   "metadata": {},
   "outputs": [],
   "source": [
    "df_train['joining_date'] = pd.to_datetime(df_train['joining_date'])\n",
    "df_train['j_month'] = df_train['joining_date'].apply(lambda date:date.month)\n",
    "df_train['j_year'] = df_train['joining_date'].apply(lambda date:date.year)\n",
    "df_train['j_No_of_Week'] = df_train['joining_date'].apply(lambda date:date.week)\n",
    "\n",
    "df_test['joining_date'] = pd.to_datetime(df_test['joining_date'])\n",
    "df_test['j_month'] = df_test['joining_date'].apply(lambda date:date.month)\n",
    "df_test['j_year'] = df_test['joining_date'].apply(lambda date:date.year)\n",
    "df_test['j_No_of_Week'] = df_test['joining_date'].apply(lambda date:date.week)"
   ]
  },
  {
   "cell_type": "markdown",
   "metadata": {},
   "source": [
    "### Droping unnecessary column"
   ]
  },
  {
   "cell_type": "code",
   "execution_count": 44,
   "metadata": {},
   "outputs": [],
   "source": [
    "df_train = df_train.drop(['joining_date','last_visit_time'],axis=1) #'Temp_date' for temporary field\n",
    "df_test = df_test.drop(['joining_date','last_visit_time'],axis=1)"
   ]
  },
  {
   "cell_type": "code",
   "execution_count": 45,
   "metadata": {},
   "outputs": [
    {
     "data": {
      "text/plain": [
       "(36992, 49)"
      ]
     },
     "execution_count": 45,
     "metadata": {},
     "output_type": "execute_result"
    }
   ],
   "source": [
    "df_train.shape"
   ]
  },
  {
   "cell_type": "code",
   "execution_count": 46,
   "metadata": {},
   "outputs": [
    {
     "data": {
      "text/plain": [
       "(19919, 48)"
      ]
     },
     "execution_count": 46,
     "metadata": {},
     "output_type": "execute_result"
    }
   ],
   "source": [
    "df_test.shape"
   ]
  },
  {
   "cell_type": "markdown",
   "metadata": {},
   "source": [
    "---"
   ]
  },
  {
   "cell_type": "markdown",
   "metadata": {},
   "source": [
    "## Preparing data for model building"
   ]
  },
  {
   "cell_type": "code",
   "execution_count": 47,
   "metadata": {},
   "outputs": [],
   "source": [
    "#storing features for showing feature importance\n",
    "feature = df_train.drop(['churn_risk_score'],axis=1).columns"
   ]
  },
  {
   "cell_type": "code",
   "execution_count": 48,
   "metadata": {},
   "outputs": [],
   "source": [
    "#Divide the data into Feature and Label component\n",
    "\n",
    "X = df_train.drop('churn_risk_score',axis=1)\n",
    "y = df_train['churn_risk_score']"
   ]
  },
  {
   "cell_type": "code",
   "execution_count": 49,
   "metadata": {},
   "outputs": [],
   "source": [
    "#split the data in train and test sets\n",
    "\n",
    "from sklearn.model_selection import train_test_split\n",
    "X_train, X_test, y_train, y_test = train_test_split(X, y, test_size=0.30, random_state=42)"
   ]
  },
  {
   "cell_type": "code",
   "execution_count": 50,
   "metadata": {},
   "outputs": [],
   "source": [
    "#scale the data\n",
    "\n",
    "from sklearn.preprocessing import MinMaxScaler\n",
    "scaler = MinMaxScaler()\n",
    "\n",
    "X_train = scaler.fit_transform(X_train)\n",
    "X_test = scaler.transform(X_test)"
   ]
  },
  {
   "cell_type": "code",
   "execution_count": 51,
   "metadata": {},
   "outputs": [],
   "source": [
    "#test_value\n",
    "\n",
    "df_test = scaler.transform(df_test)"
   ]
  },
  {
   "cell_type": "markdown",
   "metadata": {},
   "source": [
    "## Apply Machine Learning Models for prediction"
   ]
  },
  {
   "cell_type": "code",
   "execution_count": 52,
   "metadata": {},
   "outputs": [],
   "source": [
    "#import libraries for Machine Learning Models\n",
    "from sklearn.ensemble import RandomForestClassifier\n",
    "from sklearn.model_selection import GridSearchCV\n",
    "from sklearn.ensemble import GradientBoostingClassifier\n",
    "\n",
    "\n",
    "from sklearn.metrics import classification_report,f1_score #accuracy metrics"
   ]
  },
  {
   "cell_type": "markdown",
   "metadata": {},
   "source": [
    "### Random Forest"
   ]
  },
  {
   "cell_type": "code",
   "execution_count": 53,
   "metadata": {},
   "outputs": [],
   "source": [
    "# model_rf = RandomForestClassifier(random_state=0)\n",
    "# model_rf.fit(X_train,y_train)\n",
    "# pred_rf = model_rf.predict(X_test)\n",
    "# print (classification_report(y_test,pred_rf))"
   ]
  },
  {
   "cell_type": "code",
   "execution_count": 54,
   "metadata": {},
   "outputs": [],
   "source": [
    "# score = 100 * f1_score(y_test,pred_rf, average=\"macro\")\n",
    "# print(score)"
   ]
  },
  {
   "cell_type": "code",
   "execution_count": 55,
   "metadata": {},
   "outputs": [],
   "source": [
    "#feature importance\n",
    "\n",
    "# imp_feat=pd.Series(model_rf.feature_importances_,index=feature)\n",
    "# plt.figure(figsize=(8,6))\n",
    "# imp_feat.sort_values(ascending=False)[:10].plot(kind='bar')"
   ]
  },
  {
   "cell_type": "markdown",
   "metadata": {},
   "source": [
    "### Catboost"
   ]
  },
  {
   "cell_type": "code",
   "execution_count": 56,
   "metadata": {},
   "outputs": [
    {
     "name": "stdout",
     "output_type": "stream",
     "text": [
      "0:\tlearn: 1.4895716\ttotal: 328ms\tremaining: 2m 43s\n",
      "1:\tlearn: 1.3994541\ttotal: 381ms\tremaining: 1m 34s\n",
      "2:\tlearn: 1.3113391\ttotal: 430ms\tremaining: 1m 11s\n",
      "3:\tlearn: 1.2384333\ttotal: 470ms\tremaining: 58.3s\n",
      "4:\tlearn: 1.1770794\ttotal: 510ms\tremaining: 50.4s\n",
      "5:\tlearn: 1.1250658\ttotal: 556ms\tremaining: 45.8s\n",
      "6:\tlearn: 1.0847838\ttotal: 594ms\tremaining: 41.8s\n",
      "7:\tlearn: 1.0389681\ttotal: 651ms\tremaining: 40s\n",
      "8:\tlearn: 0.9991897\ttotal: 701ms\tremaining: 38.3s\n",
      "9:\tlearn: 0.9657073\ttotal: 748ms\tremaining: 36.6s\n",
      "10:\tlearn: 0.9358474\ttotal: 786ms\tremaining: 34.9s\n",
      "11:\tlearn: 0.9048377\ttotal: 846ms\tremaining: 34.4s\n",
      "12:\tlearn: 0.8779169\ttotal: 885ms\tremaining: 33.2s\n",
      "13:\tlearn: 0.8532382\ttotal: 933ms\tremaining: 32.4s\n",
      "14:\tlearn: 0.8318534\ttotal: 972ms\tremaining: 31.4s\n",
      "15:\tlearn: 0.8120675\ttotal: 1.01s\tremaining: 30.6s\n",
      "16:\tlearn: 0.7920882\ttotal: 1.07s\tremaining: 30.6s\n",
      "17:\tlearn: 0.7735351\ttotal: 1.12s\tremaining: 30.1s\n",
      "18:\tlearn: 0.7579747\ttotal: 1.16s\tremaining: 29.4s\n",
      "19:\tlearn: 0.7440101\ttotal: 1.2s\tremaining: 28.9s\n",
      "20:\tlearn: 0.7311200\ttotal: 1.24s\tremaining: 28.4s\n",
      "21:\tlearn: 0.7208275\ttotal: 1.28s\tremaining: 27.9s\n",
      "22:\tlearn: 0.7082053\ttotal: 1.33s\tremaining: 27.6s\n",
      "23:\tlearn: 0.6970894\ttotal: 1.37s\tremaining: 27.1s\n",
      "24:\tlearn: 0.6869101\ttotal: 1.4s\tremaining: 26.7s\n",
      "25:\tlearn: 0.6759317\ttotal: 1.46s\tremaining: 26.5s\n",
      "26:\tlearn: 0.6659654\ttotal: 1.51s\tremaining: 26.5s\n",
      "27:\tlearn: 0.6559219\ttotal: 1.55s\tremaining: 26.2s\n",
      "28:\tlearn: 0.6481071\ttotal: 1.59s\tremaining: 25.8s\n",
      "29:\tlearn: 0.6399116\ttotal: 1.63s\tremaining: 25.6s\n",
      "30:\tlearn: 0.6331763\ttotal: 1.68s\tremaining: 25.4s\n",
      "31:\tlearn: 0.6269944\ttotal: 1.72s\tremaining: 25.2s\n",
      "32:\tlearn: 0.6217938\ttotal: 1.77s\tremaining: 25s\n",
      "33:\tlearn: 0.6157263\ttotal: 1.81s\tremaining: 24.8s\n",
      "34:\tlearn: 0.6093706\ttotal: 1.84s\tremaining: 24.5s\n",
      "35:\tlearn: 0.6039053\ttotal: 1.9s\tremaining: 24.5s\n",
      "36:\tlearn: 0.5982244\ttotal: 1.96s\tremaining: 24.5s\n",
      "37:\tlearn: 0.5943558\ttotal: 2s\tremaining: 24.3s\n",
      "38:\tlearn: 0.5888446\ttotal: 2.03s\tremaining: 24s\n",
      "39:\tlearn: 0.5844883\ttotal: 2.08s\tremaining: 23.9s\n",
      "40:\tlearn: 0.5814801\ttotal: 2.11s\tremaining: 23.7s\n",
      "41:\tlearn: 0.5779705\ttotal: 2.17s\tremaining: 23.6s\n",
      "42:\tlearn: 0.5746335\ttotal: 2.21s\tremaining: 23.5s\n",
      "43:\tlearn: 0.5713678\ttotal: 2.27s\tremaining: 23.6s\n",
      "44:\tlearn: 0.5681687\ttotal: 2.32s\tremaining: 23.5s\n",
      "45:\tlearn: 0.5654603\ttotal: 2.36s\tremaining: 23.3s\n",
      "46:\tlearn: 0.5624148\ttotal: 2.41s\tremaining: 23.3s\n",
      "47:\tlearn: 0.5596064\ttotal: 2.46s\tremaining: 23.1s\n",
      "48:\tlearn: 0.5569868\ttotal: 2.5s\tremaining: 23s\n",
      "49:\tlearn: 0.5541448\ttotal: 2.54s\tremaining: 22.8s\n",
      "50:\tlearn: 0.5513680\ttotal: 2.59s\tremaining: 22.8s\n",
      "51:\tlearn: 0.5487512\ttotal: 2.64s\tremaining: 22.8s\n",
      "52:\tlearn: 0.5475969\ttotal: 2.68s\tremaining: 22.6s\n",
      "53:\tlearn: 0.5455911\ttotal: 2.71s\tremaining: 22.4s\n",
      "54:\tlearn: 0.5441418\ttotal: 2.76s\tremaining: 22.3s\n",
      "55:\tlearn: 0.5422557\ttotal: 2.81s\tremaining: 22.3s\n",
      "56:\tlearn: 0.5409010\ttotal: 2.85s\tremaining: 22.2s\n",
      "57:\tlearn: 0.5391738\ttotal: 2.89s\tremaining: 22s\n",
      "58:\tlearn: 0.5378192\ttotal: 2.93s\tremaining: 21.9s\n",
      "59:\tlearn: 0.5357567\ttotal: 3.01s\tremaining: 22.1s\n",
      "60:\tlearn: 0.5336008\ttotal: 3.06s\tremaining: 22s\n",
      "61:\tlearn: 0.5324793\ttotal: 3.1s\tremaining: 21.9s\n",
      "62:\tlearn: 0.5312583\ttotal: 3.16s\tremaining: 21.9s\n",
      "63:\tlearn: 0.5290246\ttotal: 3.21s\tremaining: 21.9s\n",
      "64:\tlearn: 0.5281515\ttotal: 3.25s\tremaining: 21.8s\n",
      "65:\tlearn: 0.5268487\ttotal: 3.29s\tremaining: 21.6s\n",
      "66:\tlearn: 0.5251858\ttotal: 3.33s\tremaining: 21.5s\n",
      "67:\tlearn: 0.5242646\ttotal: 3.38s\tremaining: 21.5s\n",
      "68:\tlearn: 0.5225512\ttotal: 3.44s\tremaining: 21.5s\n",
      "69:\tlearn: 0.5216247\ttotal: 3.49s\tremaining: 21.4s\n",
      "70:\tlearn: 0.5208327\ttotal: 3.52s\tremaining: 21.3s\n",
      "71:\tlearn: 0.5195793\ttotal: 3.56s\tremaining: 21.2s\n",
      "72:\tlearn: 0.5184127\ttotal: 3.61s\tremaining: 21.1s\n",
      "73:\tlearn: 0.5173200\ttotal: 3.65s\tremaining: 21s\n",
      "74:\tlearn: 0.5166594\ttotal: 3.69s\tremaining: 20.9s\n",
      "75:\tlearn: 0.5154466\ttotal: 3.74s\tremaining: 20.9s\n",
      "76:\tlearn: 0.5147881\ttotal: 3.79s\tremaining: 20.8s\n",
      "77:\tlearn: 0.5140082\ttotal: 3.83s\tremaining: 20.7s\n",
      "78:\tlearn: 0.5133625\ttotal: 3.89s\tremaining: 20.7s\n",
      "79:\tlearn: 0.5127704\ttotal: 3.94s\tremaining: 20.7s\n",
      "80:\tlearn: 0.5117876\ttotal: 3.98s\tremaining: 20.6s\n",
      "81:\tlearn: 0.5112342\ttotal: 4.02s\tremaining: 20.5s\n",
      "82:\tlearn: 0.5101509\ttotal: 4.06s\tremaining: 20.4s\n",
      "83:\tlearn: 0.5089404\ttotal: 4.11s\tremaining: 20.3s\n",
      "84:\tlearn: 0.5082553\ttotal: 4.18s\tremaining: 20.4s\n",
      "85:\tlearn: 0.5078189\ttotal: 4.21s\tremaining: 20.3s\n",
      "86:\tlearn: 0.5069374\ttotal: 4.27s\tremaining: 20.3s\n",
      "87:\tlearn: 0.5060234\ttotal: 4.32s\tremaining: 20.2s\n",
      "88:\tlearn: 0.5053232\ttotal: 4.38s\tremaining: 20.2s\n",
      "89:\tlearn: 0.5048374\ttotal: 4.42s\tremaining: 20.2s\n",
      "90:\tlearn: 0.5035757\ttotal: 4.47s\tremaining: 20.1s\n",
      "91:\tlearn: 0.5028854\ttotal: 4.52s\tremaining: 20s\n",
      "92:\tlearn: 0.5021174\ttotal: 4.56s\tremaining: 20s\n",
      "93:\tlearn: 0.5015842\ttotal: 4.62s\tremaining: 19.9s\n",
      "94:\tlearn: 0.5011185\ttotal: 4.66s\tremaining: 19.9s\n",
      "95:\tlearn: 0.5006001\ttotal: 4.71s\tremaining: 19.8s\n",
      "96:\tlearn: 0.5000175\ttotal: 4.76s\tremaining: 19.8s\n",
      "97:\tlearn: 0.4994425\ttotal: 4.81s\tremaining: 19.7s\n",
      "98:\tlearn: 0.4990247\ttotal: 4.84s\tremaining: 19.6s\n",
      "99:\tlearn: 0.4985767\ttotal: 4.91s\tremaining: 19.6s\n",
      "100:\tlearn: 0.4980731\ttotal: 4.96s\tremaining: 19.6s\n",
      "101:\tlearn: 0.4976557\ttotal: 5.01s\tremaining: 19.6s\n",
      "102:\tlearn: 0.4972088\ttotal: 5.07s\tremaining: 19.5s\n",
      "103:\tlearn: 0.4969248\ttotal: 5.12s\tremaining: 19.5s\n",
      "104:\tlearn: 0.4965635\ttotal: 5.18s\tremaining: 19.5s\n",
      "105:\tlearn: 0.4958612\ttotal: 5.22s\tremaining: 19.4s\n",
      "106:\tlearn: 0.4954527\ttotal: 5.26s\tremaining: 19.3s\n",
      "107:\tlearn: 0.4948617\ttotal: 5.33s\tremaining: 19.3s\n",
      "108:\tlearn: 0.4943378\ttotal: 5.37s\tremaining: 19.3s\n",
      "109:\tlearn: 0.4936727\ttotal: 5.43s\tremaining: 19.3s\n",
      "110:\tlearn: 0.4931444\ttotal: 5.48s\tremaining: 19.2s\n",
      "111:\tlearn: 0.4927612\ttotal: 5.54s\tremaining: 19.2s\n",
      "112:\tlearn: 0.4923709\ttotal: 5.58s\tremaining: 19.1s\n",
      "113:\tlearn: 0.4916483\ttotal: 5.62s\tremaining: 19s\n",
      "114:\tlearn: 0.4911413\ttotal: 5.67s\tremaining: 19s\n",
      "115:\tlearn: 0.4906009\ttotal: 5.71s\tremaining: 18.9s\n",
      "116:\tlearn: 0.4897533\ttotal: 5.76s\tremaining: 18.9s\n",
      "117:\tlearn: 0.4893852\ttotal: 5.81s\tremaining: 18.8s\n",
      "118:\tlearn: 0.4890685\ttotal: 5.86s\tremaining: 18.7s\n",
      "119:\tlearn: 0.4885738\ttotal: 5.9s\tremaining: 18.7s\n",
      "120:\tlearn: 0.4878901\ttotal: 5.95s\tremaining: 18.6s\n",
      "121:\tlearn: 0.4874975\ttotal: 5.99s\tremaining: 18.6s\n",
      "122:\tlearn: 0.4866790\ttotal: 6.04s\tremaining: 18.5s\n",
      "123:\tlearn: 0.4861710\ttotal: 6.08s\tremaining: 18.4s\n",
      "124:\tlearn: 0.4857156\ttotal: 6.13s\tremaining: 18.4s\n",
      "125:\tlearn: 0.4848718\ttotal: 6.19s\tremaining: 18.4s\n",
      "126:\tlearn: 0.4844053\ttotal: 6.23s\tremaining: 18.3s\n",
      "127:\tlearn: 0.4840474\ttotal: 6.27s\tremaining: 18.2s\n",
      "128:\tlearn: 0.4835536\ttotal: 6.31s\tremaining: 18.2s\n",
      "129:\tlearn: 0.4832214\ttotal: 6.37s\tremaining: 18.1s\n",
      "130:\tlearn: 0.4828749\ttotal: 6.42s\tremaining: 18.1s\n",
      "131:\tlearn: 0.4825552\ttotal: 6.46s\tremaining: 18s\n",
      "132:\tlearn: 0.4821674\ttotal: 6.5s\tremaining: 17.9s\n",
      "133:\tlearn: 0.4817519\ttotal: 6.55s\tremaining: 17.9s\n",
      "134:\tlearn: 0.4812690\ttotal: 6.6s\tremaining: 17.9s\n",
      "135:\tlearn: 0.4808434\ttotal: 6.64s\tremaining: 17.8s\n",
      "136:\tlearn: 0.4800187\ttotal: 6.7s\tremaining: 17.8s\n",
      "137:\tlearn: 0.4797157\ttotal: 6.76s\tremaining: 17.7s\n",
      "138:\tlearn: 0.4789893\ttotal: 6.79s\tremaining: 17.6s\n",
      "139:\tlearn: 0.4786764\ttotal: 6.84s\tremaining: 17.6s\n",
      "140:\tlearn: 0.4780186\ttotal: 6.9s\tremaining: 17.6s\n",
      "141:\tlearn: 0.4774871\ttotal: 6.94s\tremaining: 17.5s\n",
      "142:\tlearn: 0.4771118\ttotal: 7s\tremaining: 17.5s\n",
      "143:\tlearn: 0.4767558\ttotal: 7.04s\tremaining: 17.4s\n",
      "144:\tlearn: 0.4764433\ttotal: 7.08s\tremaining: 17.3s\n",
      "145:\tlearn: 0.4758603\ttotal: 7.15s\tremaining: 17.3s\n",
      "146:\tlearn: 0.4753544\ttotal: 7.21s\tremaining: 17.3s\n",
      "147:\tlearn: 0.4749339\ttotal: 7.25s\tremaining: 17.3s\n",
      "148:\tlearn: 0.4742394\ttotal: 7.3s\tremaining: 17.2s\n",
      "149:\tlearn: 0.4740576\ttotal: 7.34s\tremaining: 17.1s\n",
      "150:\tlearn: 0.4733443\ttotal: 7.38s\tremaining: 17.1s\n",
      "151:\tlearn: 0.4730121\ttotal: 7.43s\tremaining: 17s\n",
      "152:\tlearn: 0.4726634\ttotal: 7.5s\tremaining: 17s\n",
      "153:\tlearn: 0.4722682\ttotal: 7.57s\tremaining: 17s\n",
      "154:\tlearn: 0.4720094\ttotal: 7.61s\tremaining: 16.9s\n",
      "155:\tlearn: 0.4717921\ttotal: 7.66s\tremaining: 16.9s\n",
      "156:\tlearn: 0.4713882\ttotal: 7.71s\tremaining: 16.8s\n",
      "157:\tlearn: 0.4711104\ttotal: 7.78s\tremaining: 16.8s\n",
      "158:\tlearn: 0.4707327\ttotal: 7.81s\tremaining: 16.8s\n",
      "159:\tlearn: 0.4702290\ttotal: 7.86s\tremaining: 16.7s\n",
      "160:\tlearn: 0.4697036\ttotal: 7.92s\tremaining: 16.7s\n"
     ]
    },
    {
     "name": "stdout",
     "output_type": "stream",
     "text": [
      "161:\tlearn: 0.4694395\ttotal: 7.99s\tremaining: 16.7s\n",
      "162:\tlearn: 0.4691744\ttotal: 8.03s\tremaining: 16.6s\n",
      "163:\tlearn: 0.4688552\ttotal: 8.12s\tremaining: 16.6s\n",
      "164:\tlearn: 0.4683066\ttotal: 8.18s\tremaining: 16.6s\n",
      "165:\tlearn: 0.4675737\ttotal: 8.24s\tremaining: 16.6s\n",
      "166:\tlearn: 0.4673118\ttotal: 8.27s\tremaining: 16.5s\n",
      "167:\tlearn: 0.4668501\ttotal: 8.32s\tremaining: 16.4s\n",
      "168:\tlearn: 0.4664654\ttotal: 8.36s\tremaining: 16.4s\n",
      "169:\tlearn: 0.4659173\ttotal: 8.41s\tremaining: 16.3s\n",
      "170:\tlearn: 0.4654704\ttotal: 8.46s\tremaining: 16.3s\n",
      "171:\tlearn: 0.4652782\ttotal: 8.5s\tremaining: 16.2s\n",
      "172:\tlearn: 0.4650306\ttotal: 8.55s\tremaining: 16.2s\n",
      "173:\tlearn: 0.4647404\ttotal: 8.6s\tremaining: 16.1s\n",
      "174:\tlearn: 0.4640558\ttotal: 8.64s\tremaining: 16.1s\n",
      "175:\tlearn: 0.4638108\ttotal: 8.69s\tremaining: 16s\n",
      "176:\tlearn: 0.4634739\ttotal: 8.75s\tremaining: 16s\n",
      "177:\tlearn: 0.4631217\ttotal: 8.79s\tremaining: 15.9s\n",
      "178:\tlearn: 0.4627923\ttotal: 8.86s\tremaining: 15.9s\n",
      "179:\tlearn: 0.4625172\ttotal: 8.9s\tremaining: 15.8s\n",
      "180:\tlearn: 0.4621867\ttotal: 8.95s\tremaining: 15.8s\n",
      "181:\tlearn: 0.4619042\ttotal: 9.01s\tremaining: 15.7s\n",
      "182:\tlearn: 0.4616328\ttotal: 9.07s\tremaining: 15.7s\n",
      "183:\tlearn: 0.4613031\ttotal: 9.11s\tremaining: 15.6s\n",
      "184:\tlearn: 0.4610009\ttotal: 9.16s\tremaining: 15.6s\n",
      "185:\tlearn: 0.4606739\ttotal: 9.21s\tremaining: 15.5s\n",
      "186:\tlearn: 0.4604423\ttotal: 9.25s\tremaining: 15.5s\n",
      "187:\tlearn: 0.4602415\ttotal: 9.3s\tremaining: 15.4s\n",
      "188:\tlearn: 0.4598918\ttotal: 9.34s\tremaining: 15.4s\n",
      "189:\tlearn: 0.4595765\ttotal: 9.39s\tremaining: 15.3s\n",
      "190:\tlearn: 0.4592914\ttotal: 9.43s\tremaining: 15.3s\n",
      "191:\tlearn: 0.4588589\ttotal: 9.48s\tremaining: 15.2s\n",
      "192:\tlearn: 0.4585750\ttotal: 9.54s\tremaining: 15.2s\n",
      "193:\tlearn: 0.4581391\ttotal: 9.59s\tremaining: 15.1s\n",
      "194:\tlearn: 0.4578783\ttotal: 9.65s\tremaining: 15.1s\n",
      "195:\tlearn: 0.4575128\ttotal: 9.69s\tremaining: 15s\n",
      "196:\tlearn: 0.4570848\ttotal: 9.78s\tremaining: 15s\n",
      "197:\tlearn: 0.4568025\ttotal: 9.82s\tremaining: 15s\n",
      "198:\tlearn: 0.4565178\ttotal: 9.87s\tremaining: 14.9s\n",
      "199:\tlearn: 0.4561528\ttotal: 9.91s\tremaining: 14.9s\n",
      "200:\tlearn: 0.4558897\ttotal: 9.96s\tremaining: 14.8s\n",
      "201:\tlearn: 0.4556726\ttotal: 10s\tremaining: 14.8s\n",
      "202:\tlearn: 0.4553423\ttotal: 10.1s\tremaining: 14.7s\n",
      "203:\tlearn: 0.4549679\ttotal: 10.1s\tremaining: 14.7s\n",
      "204:\tlearn: 0.4547313\ttotal: 10.2s\tremaining: 14.6s\n",
      "205:\tlearn: 0.4543940\ttotal: 10.2s\tremaining: 14.6s\n",
      "206:\tlearn: 0.4541943\ttotal: 10.3s\tremaining: 14.5s\n",
      "207:\tlearn: 0.4539119\ttotal: 10.3s\tremaining: 14.5s\n",
      "208:\tlearn: 0.4537273\ttotal: 10.3s\tremaining: 14.4s\n",
      "209:\tlearn: 0.4535646\ttotal: 10.4s\tremaining: 14.4s\n",
      "210:\tlearn: 0.4533808\ttotal: 10.4s\tremaining: 14.3s\n",
      "211:\tlearn: 0.4531448\ttotal: 10.5s\tremaining: 14.3s\n",
      "212:\tlearn: 0.4528959\ttotal: 10.6s\tremaining: 14.2s\n",
      "213:\tlearn: 0.4526324\ttotal: 10.6s\tremaining: 14.2s\n",
      "214:\tlearn: 0.4523248\ttotal: 10.7s\tremaining: 14.1s\n",
      "215:\tlearn: 0.4521146\ttotal: 10.7s\tremaining: 14.1s\n",
      "216:\tlearn: 0.4518591\ttotal: 10.8s\tremaining: 14.1s\n",
      "217:\tlearn: 0.4515812\ttotal: 10.8s\tremaining: 14s\n",
      "218:\tlearn: 0.4513247\ttotal: 10.9s\tremaining: 13.9s\n",
      "219:\tlearn: 0.4510656\ttotal: 10.9s\tremaining: 13.9s\n",
      "220:\tlearn: 0.4508345\ttotal: 11s\tremaining: 13.9s\n",
      "221:\tlearn: 0.4503086\ttotal: 11s\tremaining: 13.8s\n",
      "222:\tlearn: 0.4500129\ttotal: 11.1s\tremaining: 13.8s\n",
      "223:\tlearn: 0.4497436\ttotal: 11.1s\tremaining: 13.7s\n",
      "224:\tlearn: 0.4493652\ttotal: 11.2s\tremaining: 13.7s\n",
      "225:\tlearn: 0.4491623\ttotal: 11.2s\tremaining: 13.6s\n",
      "226:\tlearn: 0.4487503\ttotal: 11.3s\tremaining: 13.6s\n",
      "227:\tlearn: 0.4486082\ttotal: 11.4s\tremaining: 13.5s\n",
      "228:\tlearn: 0.4483411\ttotal: 11.4s\tremaining: 13.5s\n",
      "229:\tlearn: 0.4481770\ttotal: 11.5s\tremaining: 13.5s\n",
      "230:\tlearn: 0.4479032\ttotal: 11.5s\tremaining: 13.4s\n",
      "231:\tlearn: 0.4476375\ttotal: 11.6s\tremaining: 13.4s\n",
      "232:\tlearn: 0.4473445\ttotal: 11.6s\tremaining: 13.3s\n",
      "233:\tlearn: 0.4470553\ttotal: 11.7s\tremaining: 13.3s\n",
      "234:\tlearn: 0.4467860\ttotal: 11.7s\tremaining: 13.2s\n",
      "235:\tlearn: 0.4466475\ttotal: 11.7s\tremaining: 13.1s\n",
      "236:\tlearn: 0.4464468\ttotal: 11.8s\tremaining: 13.1s\n",
      "237:\tlearn: 0.4461310\ttotal: 11.8s\tremaining: 13s\n",
      "238:\tlearn: 0.4459956\ttotal: 11.9s\tremaining: 13s\n",
      "239:\tlearn: 0.4457175\ttotal: 11.9s\tremaining: 12.9s\n",
      "240:\tlearn: 0.4453921\ttotal: 12s\tremaining: 12.9s\n",
      "241:\tlearn: 0.4451783\ttotal: 12s\tremaining: 12.8s\n",
      "242:\tlearn: 0.4449886\ttotal: 12.1s\tremaining: 12.8s\n",
      "243:\tlearn: 0.4446805\ttotal: 12.1s\tremaining: 12.7s\n",
      "244:\tlearn: 0.4444766\ttotal: 12.2s\tremaining: 12.7s\n",
      "245:\tlearn: 0.4441784\ttotal: 12.2s\tremaining: 12.6s\n",
      "246:\tlearn: 0.4439003\ttotal: 12.3s\tremaining: 12.6s\n",
      "247:\tlearn: 0.4437385\ttotal: 12.3s\tremaining: 12.5s\n",
      "248:\tlearn: 0.4435387\ttotal: 12.3s\tremaining: 12.4s\n",
      "249:\tlearn: 0.4432657\ttotal: 12.4s\tremaining: 12.4s\n",
      "250:\tlearn: 0.4431094\ttotal: 12.5s\tremaining: 12.4s\n",
      "251:\tlearn: 0.4426316\ttotal: 12.5s\tremaining: 12.3s\n",
      "252:\tlearn: 0.4423740\ttotal: 12.6s\tremaining: 12.3s\n",
      "253:\tlearn: 0.4421077\ttotal: 12.6s\tremaining: 12.2s\n",
      "254:\tlearn: 0.4419247\ttotal: 12.7s\tremaining: 12.2s\n",
      "255:\tlearn: 0.4416037\ttotal: 12.7s\tremaining: 12.1s\n",
      "256:\tlearn: 0.4414233\ttotal: 12.7s\tremaining: 12.1s\n",
      "257:\tlearn: 0.4412457\ttotal: 12.8s\tremaining: 12s\n",
      "258:\tlearn: 0.4411365\ttotal: 12.8s\tremaining: 11.9s\n",
      "259:\tlearn: 0.4408768\ttotal: 12.9s\tremaining: 11.9s\n",
      "260:\tlearn: 0.4405794\ttotal: 12.9s\tremaining: 11.8s\n",
      "261:\tlearn: 0.4403039\ttotal: 13s\tremaining: 11.8s\n",
      "262:\tlearn: 0.4399990\ttotal: 13s\tremaining: 11.7s\n",
      "263:\tlearn: 0.4398660\ttotal: 13s\tremaining: 11.7s\n",
      "264:\tlearn: 0.4395455\ttotal: 13.1s\tremaining: 11.6s\n",
      "265:\tlearn: 0.4393706\ttotal: 13.1s\tremaining: 11.5s\n",
      "266:\tlearn: 0.4391726\ttotal: 13.2s\tremaining: 11.5s\n",
      "267:\tlearn: 0.4389840\ttotal: 13.2s\tremaining: 11.4s\n",
      "268:\tlearn: 0.4388023\ttotal: 13.2s\tremaining: 11.4s\n",
      "269:\tlearn: 0.4385964\ttotal: 13.3s\tremaining: 11.3s\n",
      "270:\tlearn: 0.4383131\ttotal: 13.3s\tremaining: 11.3s\n",
      "271:\tlearn: 0.4381748\ttotal: 13.4s\tremaining: 11.2s\n",
      "272:\tlearn: 0.4380018\ttotal: 13.4s\tremaining: 11.1s\n",
      "273:\tlearn: 0.4376245\ttotal: 13.5s\tremaining: 11.1s\n",
      "274:\tlearn: 0.4374247\ttotal: 13.5s\tremaining: 11s\n",
      "275:\tlearn: 0.4371514\ttotal: 13.5s\tremaining: 11s\n",
      "276:\tlearn: 0.4370020\ttotal: 13.6s\tremaining: 10.9s\n",
      "277:\tlearn: 0.4367553\ttotal: 13.6s\tremaining: 10.9s\n",
      "278:\tlearn: 0.4365344\ttotal: 13.7s\tremaining: 10.8s\n",
      "279:\tlearn: 0.4363013\ttotal: 13.7s\tremaining: 10.8s\n",
      "280:\tlearn: 0.4359100\ttotal: 13.8s\tremaining: 10.7s\n",
      "281:\tlearn: 0.4356908\ttotal: 13.8s\tremaining: 10.7s\n",
      "282:\tlearn: 0.4354316\ttotal: 13.9s\tremaining: 10.6s\n",
      "283:\tlearn: 0.4352827\ttotal: 13.9s\tremaining: 10.6s\n",
      "284:\tlearn: 0.4349791\ttotal: 14s\tremaining: 10.5s\n",
      "285:\tlearn: 0.4347585\ttotal: 14s\tremaining: 10.5s\n",
      "286:\tlearn: 0.4345984\ttotal: 14.1s\tremaining: 10.4s\n",
      "287:\tlearn: 0.4343477\ttotal: 14.1s\tremaining: 10.4s\n",
      "288:\tlearn: 0.4342497\ttotal: 14.2s\tremaining: 10.3s\n",
      "289:\tlearn: 0.4340393\ttotal: 14.2s\tremaining: 10.3s\n",
      "290:\tlearn: 0.4336418\ttotal: 14.3s\tremaining: 10.3s\n",
      "291:\tlearn: 0.4333788\ttotal: 14.4s\tremaining: 10.2s\n",
      "292:\tlearn: 0.4331334\ttotal: 14.4s\tremaining: 10.2s\n",
      "293:\tlearn: 0.4328900\ttotal: 14.5s\tremaining: 10.1s\n",
      "294:\tlearn: 0.4326972\ttotal: 14.5s\tremaining: 10.1s\n",
      "295:\tlearn: 0.4323952\ttotal: 14.6s\tremaining: 10s\n",
      "296:\tlearn: 0.4321835\ttotal: 14.6s\tremaining: 9.99s\n",
      "297:\tlearn: 0.4318054\ttotal: 14.7s\tremaining: 9.94s\n",
      "298:\tlearn: 0.4315114\ttotal: 14.7s\tremaining: 9.89s\n",
      "299:\tlearn: 0.4313452\ttotal: 14.8s\tremaining: 9.84s\n",
      "300:\tlearn: 0.4311466\ttotal: 14.8s\tremaining: 9.79s\n",
      "301:\tlearn: 0.4309691\ttotal: 14.8s\tremaining: 9.73s\n",
      "302:\tlearn: 0.4307190\ttotal: 14.9s\tremaining: 9.67s\n",
      "303:\tlearn: 0.4304822\ttotal: 14.9s\tremaining: 9.62s\n",
      "304:\tlearn: 0.4303120\ttotal: 15s\tremaining: 9.58s\n",
      "305:\tlearn: 0.4301277\ttotal: 15s\tremaining: 9.52s\n",
      "306:\tlearn: 0.4299160\ttotal: 15.1s\tremaining: 9.47s\n",
      "307:\tlearn: 0.4297613\ttotal: 15.1s\tremaining: 9.43s\n",
      "308:\tlearn: 0.4295998\ttotal: 15.2s\tremaining: 9.38s\n",
      "309:\tlearn: 0.4293782\ttotal: 15.2s\tremaining: 9.33s\n",
      "310:\tlearn: 0.4292865\ttotal: 15.3s\tremaining: 9.27s\n",
      "311:\tlearn: 0.4291006\ttotal: 15.3s\tremaining: 9.23s\n",
      "312:\tlearn: 0.4290170\ttotal: 15.4s\tremaining: 9.18s\n",
      "313:\tlearn: 0.4287722\ttotal: 15.4s\tremaining: 9.13s\n",
      "314:\tlearn: 0.4284418\ttotal: 15.5s\tremaining: 9.08s\n",
      "315:\tlearn: 0.4282260\ttotal: 15.5s\tremaining: 9.03s\n",
      "316:\tlearn: 0.4279720\ttotal: 15.6s\tremaining: 8.99s\n",
      "317:\tlearn: 0.4278512\ttotal: 15.6s\tremaining: 8.93s\n",
      "318:\tlearn: 0.4276994\ttotal: 15.6s\tremaining: 8.87s\n",
      "319:\tlearn: 0.4274886\ttotal: 15.7s\tremaining: 8.83s\n",
      "320:\tlearn: 0.4273629\ttotal: 15.8s\tremaining: 8.78s\n"
     ]
    },
    {
     "name": "stdout",
     "output_type": "stream",
     "text": [
      "321:\tlearn: 0.4271446\ttotal: 15.8s\tremaining: 8.74s\n",
      "322:\tlearn: 0.4269824\ttotal: 15.9s\tremaining: 8.69s\n",
      "323:\tlearn: 0.4265720\ttotal: 15.9s\tremaining: 8.63s\n",
      "324:\tlearn: 0.4263740\ttotal: 15.9s\tremaining: 8.59s\n",
      "325:\tlearn: 0.4262155\ttotal: 16s\tremaining: 8.54s\n",
      "326:\tlearn: 0.4259186\ttotal: 16.1s\tremaining: 8.5s\n",
      "327:\tlearn: 0.4257599\ttotal: 16.1s\tremaining: 8.44s\n",
      "328:\tlearn: 0.4255857\ttotal: 16.2s\tremaining: 8.4s\n",
      "329:\tlearn: 0.4254181\ttotal: 16.2s\tremaining: 8.35s\n",
      "330:\tlearn: 0.4251631\ttotal: 16.3s\tremaining: 8.3s\n",
      "331:\tlearn: 0.4249275\ttotal: 16.3s\tremaining: 8.25s\n",
      "332:\tlearn: 0.4246638\ttotal: 16.4s\tremaining: 8.2s\n",
      "333:\tlearn: 0.4244571\ttotal: 16.4s\tremaining: 8.15s\n",
      "334:\tlearn: 0.4242596\ttotal: 16.4s\tremaining: 8.09s\n",
      "335:\tlearn: 0.4240726\ttotal: 16.5s\tremaining: 8.05s\n",
      "336:\tlearn: 0.4237921\ttotal: 16.5s\tremaining: 7.99s\n",
      "337:\tlearn: 0.4236167\ttotal: 16.6s\tremaining: 7.94s\n",
      "338:\tlearn: 0.4234021\ttotal: 16.6s\tremaining: 7.89s\n",
      "339:\tlearn: 0.4231639\ttotal: 16.7s\tremaining: 7.85s\n",
      "340:\tlearn: 0.4230537\ttotal: 16.7s\tremaining: 7.79s\n",
      "341:\tlearn: 0.4228650\ttotal: 16.8s\tremaining: 7.74s\n",
      "342:\tlearn: 0.4226549\ttotal: 16.8s\tremaining: 7.69s\n",
      "343:\tlearn: 0.4224762\ttotal: 16.8s\tremaining: 7.64s\n",
      "344:\tlearn: 0.4222315\ttotal: 16.9s\tremaining: 7.59s\n",
      "345:\tlearn: 0.4220838\ttotal: 16.9s\tremaining: 7.54s\n",
      "346:\tlearn: 0.4218705\ttotal: 17s\tremaining: 7.49s\n",
      "347:\tlearn: 0.4217445\ttotal: 17s\tremaining: 7.44s\n",
      "348:\tlearn: 0.4215503\ttotal: 17.1s\tremaining: 7.4s\n",
      "349:\tlearn: 0.4213048\ttotal: 17.1s\tremaining: 7.34s\n",
      "350:\tlearn: 0.4210879\ttotal: 17.2s\tremaining: 7.29s\n",
      "351:\tlearn: 0.4208972\ttotal: 17.2s\tremaining: 7.24s\n",
      "352:\tlearn: 0.4206421\ttotal: 17.3s\tremaining: 7.19s\n",
      "353:\tlearn: 0.4205270\ttotal: 17.3s\tremaining: 7.14s\n",
      "354:\tlearn: 0.4202888\ttotal: 17.4s\tremaining: 7.09s\n",
      "355:\tlearn: 0.4200306\ttotal: 17.4s\tremaining: 7.04s\n",
      "356:\tlearn: 0.4199052\ttotal: 17.5s\tremaining: 6.99s\n",
      "357:\tlearn: 0.4197317\ttotal: 17.5s\tremaining: 6.94s\n",
      "358:\tlearn: 0.4195329\ttotal: 17.6s\tremaining: 6.9s\n",
      "359:\tlearn: 0.4192350\ttotal: 17.6s\tremaining: 6.84s\n",
      "360:\tlearn: 0.4189514\ttotal: 17.7s\tremaining: 6.8s\n",
      "361:\tlearn: 0.4187878\ttotal: 17.7s\tremaining: 6.75s\n",
      "362:\tlearn: 0.4185735\ttotal: 17.8s\tremaining: 6.71s\n",
      "363:\tlearn: 0.4183646\ttotal: 17.8s\tremaining: 6.66s\n",
      "364:\tlearn: 0.4182120\ttotal: 17.9s\tremaining: 6.6s\n",
      "365:\tlearn: 0.4180833\ttotal: 17.9s\tremaining: 6.55s\n",
      "366:\tlearn: 0.4178912\ttotal: 17.9s\tremaining: 6.5s\n",
      "367:\tlearn: 0.4176259\ttotal: 18s\tremaining: 6.45s\n",
      "368:\tlearn: 0.4173333\ttotal: 18s\tremaining: 6.4s\n",
      "369:\tlearn: 0.4170847\ttotal: 18.1s\tremaining: 6.34s\n",
      "370:\tlearn: 0.4168848\ttotal: 18.1s\tremaining: 6.29s\n",
      "371:\tlearn: 0.4166704\ttotal: 18.1s\tremaining: 6.24s\n",
      "372:\tlearn: 0.4164775\ttotal: 18.2s\tremaining: 6.19s\n",
      "373:\tlearn: 0.4162290\ttotal: 18.2s\tremaining: 6.14s\n",
      "374:\tlearn: 0.4160679\ttotal: 18.3s\tremaining: 6.09s\n",
      "375:\tlearn: 0.4157949\ttotal: 18.3s\tremaining: 6.04s\n",
      "376:\tlearn: 0.4155432\ttotal: 18.4s\tremaining: 5.99s\n",
      "377:\tlearn: 0.4153299\ttotal: 18.4s\tremaining: 5.94s\n",
      "378:\tlearn: 0.4151061\ttotal: 18.5s\tremaining: 5.89s\n",
      "379:\tlearn: 0.4149682\ttotal: 18.5s\tremaining: 5.84s\n",
      "380:\tlearn: 0.4148325\ttotal: 18.6s\tremaining: 5.79s\n",
      "381:\tlearn: 0.4146045\ttotal: 18.6s\tremaining: 5.75s\n",
      "382:\tlearn: 0.4144386\ttotal: 18.6s\tremaining: 5.69s\n",
      "383:\tlearn: 0.4142340\ttotal: 18.7s\tremaining: 5.64s\n",
      "384:\tlearn: 0.4141090\ttotal: 18.7s\tremaining: 5.59s\n",
      "385:\tlearn: 0.4138728\ttotal: 18.8s\tremaining: 5.55s\n",
      "386:\tlearn: 0.4137704\ttotal: 18.8s\tremaining: 5.5s\n",
      "387:\tlearn: 0.4136332\ttotal: 18.9s\tremaining: 5.44s\n",
      "388:\tlearn: 0.4133427\ttotal: 18.9s\tremaining: 5.4s\n",
      "389:\tlearn: 0.4131614\ttotal: 19s\tremaining: 5.34s\n",
      "390:\tlearn: 0.4129682\ttotal: 19s\tremaining: 5.29s\n",
      "391:\tlearn: 0.4128379\ttotal: 19s\tremaining: 5.25s\n",
      "392:\tlearn: 0.4125884\ttotal: 19.1s\tremaining: 5.19s\n",
      "393:\tlearn: 0.4124059\ttotal: 19.1s\tremaining: 5.14s\n",
      "394:\tlearn: 0.4122551\ttotal: 19.2s\tremaining: 5.09s\n",
      "395:\tlearn: 0.4121313\ttotal: 19.2s\tremaining: 5.05s\n",
      "396:\tlearn: 0.4119579\ttotal: 19.3s\tremaining: 5s\n",
      "397:\tlearn: 0.4118348\ttotal: 19.3s\tremaining: 4.95s\n",
      "398:\tlearn: 0.4115983\ttotal: 19.4s\tremaining: 4.9s\n",
      "399:\tlearn: 0.4113955\ttotal: 19.4s\tremaining: 4.85s\n",
      "400:\tlearn: 0.4112174\ttotal: 19.5s\tremaining: 4.81s\n",
      "401:\tlearn: 0.4109698\ttotal: 19.5s\tremaining: 4.75s\n",
      "402:\tlearn: 0.4107732\ttotal: 19.5s\tremaining: 4.7s\n",
      "403:\tlearn: 0.4105765\ttotal: 19.6s\tremaining: 4.65s\n",
      "404:\tlearn: 0.4104307\ttotal: 19.7s\tremaining: 4.61s\n",
      "405:\tlearn: 0.4102197\ttotal: 19.7s\tremaining: 4.56s\n",
      "406:\tlearn: 0.4099417\ttotal: 19.7s\tremaining: 4.51s\n",
      "407:\tlearn: 0.4098204\ttotal: 19.8s\tremaining: 4.46s\n",
      "408:\tlearn: 0.4096521\ttotal: 19.8s\tremaining: 4.41s\n",
      "409:\tlearn: 0.4094418\ttotal: 19.9s\tremaining: 4.37s\n",
      "410:\tlearn: 0.4090904\ttotal: 19.9s\tremaining: 4.32s\n",
      "411:\tlearn: 0.4089661\ttotal: 20s\tremaining: 4.27s\n",
      "412:\tlearn: 0.4087725\ttotal: 20s\tremaining: 4.22s\n",
      "413:\tlearn: 0.4086105\ttotal: 20.1s\tremaining: 4.17s\n",
      "414:\tlearn: 0.4084453\ttotal: 20.1s\tremaining: 4.12s\n",
      "415:\tlearn: 0.4082078\ttotal: 20.1s\tremaining: 4.07s\n",
      "416:\tlearn: 0.4080502\ttotal: 20.2s\tremaining: 4.02s\n",
      "417:\tlearn: 0.4078201\ttotal: 20.2s\tremaining: 3.97s\n",
      "418:\tlearn: 0.4077282\ttotal: 20.3s\tremaining: 3.92s\n",
      "419:\tlearn: 0.4075228\ttotal: 20.3s\tremaining: 3.87s\n",
      "420:\tlearn: 0.4073534\ttotal: 20.4s\tremaining: 3.83s\n",
      "421:\tlearn: 0.4071235\ttotal: 20.4s\tremaining: 3.78s\n",
      "422:\tlearn: 0.4069227\ttotal: 20.5s\tremaining: 3.73s\n",
      "423:\tlearn: 0.4067797\ttotal: 20.5s\tremaining: 3.68s\n",
      "424:\tlearn: 0.4066654\ttotal: 20.6s\tremaining: 3.63s\n",
      "425:\tlearn: 0.4065642\ttotal: 20.6s\tremaining: 3.58s\n",
      "426:\tlearn: 0.4063919\ttotal: 20.7s\tremaining: 3.54s\n",
      "427:\tlearn: 0.4061145\ttotal: 20.8s\tremaining: 3.49s\n",
      "428:\tlearn: 0.4059040\ttotal: 20.8s\tremaining: 3.44s\n",
      "429:\tlearn: 0.4056591\ttotal: 20.9s\tremaining: 3.4s\n",
      "430:\tlearn: 0.4054752\ttotal: 20.9s\tremaining: 3.35s\n",
      "431:\tlearn: 0.4052598\ttotal: 21s\tremaining: 3.3s\n",
      "432:\tlearn: 0.4049672\ttotal: 21s\tremaining: 3.25s\n",
      "433:\tlearn: 0.4047316\ttotal: 21.1s\tremaining: 3.21s\n",
      "434:\tlearn: 0.4045148\ttotal: 21.1s\tremaining: 3.16s\n",
      "435:\tlearn: 0.4043004\ttotal: 21.2s\tremaining: 3.11s\n",
      "436:\tlearn: 0.4041609\ttotal: 21.2s\tremaining: 3.06s\n",
      "437:\tlearn: 0.4040888\ttotal: 21.3s\tremaining: 3.01s\n",
      "438:\tlearn: 0.4039861\ttotal: 21.3s\tremaining: 2.96s\n",
      "439:\tlearn: 0.4038507\ttotal: 21.4s\tremaining: 2.92s\n",
      "440:\tlearn: 0.4036071\ttotal: 21.4s\tremaining: 2.87s\n",
      "441:\tlearn: 0.4034321\ttotal: 21.5s\tremaining: 2.82s\n",
      "442:\tlearn: 0.4032641\ttotal: 21.5s\tremaining: 2.77s\n",
      "443:\tlearn: 0.4031426\ttotal: 21.6s\tremaining: 2.72s\n",
      "444:\tlearn: 0.4029969\ttotal: 21.6s\tremaining: 2.67s\n",
      "445:\tlearn: 0.4028110\ttotal: 21.7s\tremaining: 2.63s\n",
      "446:\tlearn: 0.4026753\ttotal: 21.7s\tremaining: 2.58s\n",
      "447:\tlearn: 0.4024742\ttotal: 21.8s\tremaining: 2.53s\n",
      "448:\tlearn: 0.4022636\ttotal: 21.8s\tremaining: 2.48s\n",
      "449:\tlearn: 0.4021596\ttotal: 21.9s\tremaining: 2.43s\n",
      "450:\tlearn: 0.4020500\ttotal: 21.9s\tremaining: 2.38s\n",
      "451:\tlearn: 0.4018073\ttotal: 22s\tremaining: 2.33s\n",
      "452:\tlearn: 0.4015281\ttotal: 22s\tremaining: 2.29s\n",
      "453:\tlearn: 0.4013085\ttotal: 22.1s\tremaining: 2.24s\n",
      "454:\tlearn: 0.4011314\ttotal: 22.1s\tremaining: 2.19s\n",
      "455:\tlearn: 0.4008625\ttotal: 22.2s\tremaining: 2.14s\n",
      "456:\tlearn: 0.4007412\ttotal: 22.3s\tremaining: 2.09s\n",
      "457:\tlearn: 0.4005601\ttotal: 22.3s\tremaining: 2.04s\n",
      "458:\tlearn: 0.4004431\ttotal: 22.4s\tremaining: 2s\n",
      "459:\tlearn: 0.4002365\ttotal: 22.4s\tremaining: 1.95s\n",
      "460:\tlearn: 0.3999717\ttotal: 22.5s\tremaining: 1.9s\n",
      "461:\tlearn: 0.3997198\ttotal: 22.5s\tremaining: 1.85s\n",
      "462:\tlearn: 0.3995797\ttotal: 22.6s\tremaining: 1.8s\n",
      "463:\tlearn: 0.3994503\ttotal: 22.6s\tremaining: 1.75s\n",
      "464:\tlearn: 0.3991851\ttotal: 22.7s\tremaining: 1.71s\n",
      "465:\tlearn: 0.3990761\ttotal: 22.7s\tremaining: 1.66s\n",
      "466:\tlearn: 0.3988014\ttotal: 22.8s\tremaining: 1.61s\n",
      "467:\tlearn: 0.3985596\ttotal: 22.8s\tremaining: 1.56s\n",
      "468:\tlearn: 0.3984207\ttotal: 22.9s\tremaining: 1.51s\n",
      "469:\tlearn: 0.3982502\ttotal: 22.9s\tremaining: 1.46s\n",
      "470:\tlearn: 0.3980191\ttotal: 23s\tremaining: 1.41s\n",
      "471:\tlearn: 0.3977435\ttotal: 23s\tremaining: 1.36s\n",
      "472:\tlearn: 0.3976079\ttotal: 23.1s\tremaining: 1.32s\n",
      "473:\tlearn: 0.3974229\ttotal: 23.1s\tremaining: 1.27s\n",
      "474:\tlearn: 0.3972198\ttotal: 23.2s\tremaining: 1.22s\n",
      "475:\tlearn: 0.3970339\ttotal: 23.2s\tremaining: 1.17s\n",
      "476:\tlearn: 0.3969216\ttotal: 23.3s\tremaining: 1.12s\n",
      "477:\tlearn: 0.3967707\ttotal: 23.3s\tremaining: 1.07s\n",
      "478:\tlearn: 0.3965737\ttotal: 23.4s\tremaining: 1.02s\n",
      "479:\tlearn: 0.3964714\ttotal: 23.4s\tremaining: 975ms\n",
      "480:\tlearn: 0.3962958\ttotal: 23.5s\tremaining: 927ms\n"
     ]
    },
    {
     "name": "stdout",
     "output_type": "stream",
     "text": [
      "481:\tlearn: 0.3961632\ttotal: 23.5s\tremaining: 878ms\n",
      "482:\tlearn: 0.3959341\ttotal: 23.6s\tremaining: 830ms\n",
      "483:\tlearn: 0.3957362\ttotal: 23.6s\tremaining: 781ms\n",
      "484:\tlearn: 0.3955780\ttotal: 23.7s\tremaining: 733ms\n",
      "485:\tlearn: 0.3954299\ttotal: 23.8s\tremaining: 684ms\n",
      "486:\tlearn: 0.3953142\ttotal: 23.8s\tremaining: 636ms\n",
      "487:\tlearn: 0.3950927\ttotal: 23.9s\tremaining: 587ms\n",
      "488:\tlearn: 0.3949017\ttotal: 23.9s\tremaining: 539ms\n",
      "489:\tlearn: 0.3947546\ttotal: 24s\tremaining: 490ms\n",
      "490:\tlearn: 0.3946240\ttotal: 24.1s\tremaining: 441ms\n",
      "491:\tlearn: 0.3944986\ttotal: 24.1s\tremaining: 392ms\n",
      "492:\tlearn: 0.3943476\ttotal: 24.2s\tremaining: 343ms\n",
      "493:\tlearn: 0.3941468\ttotal: 24.2s\tremaining: 294ms\n",
      "494:\tlearn: 0.3939881\ttotal: 24.3s\tremaining: 245ms\n",
      "495:\tlearn: 0.3938522\ttotal: 24.3s\tremaining: 196ms\n",
      "496:\tlearn: 0.3936535\ttotal: 24.4s\tremaining: 147ms\n",
      "497:\tlearn: 0.3935489\ttotal: 24.4s\tremaining: 98ms\n",
      "498:\tlearn: 0.3933614\ttotal: 24.5s\tremaining: 49ms\n",
      "499:\tlearn: 0.3932184\ttotal: 24.5s\tremaining: 0us\n",
      "              precision    recall  f1-score   support\n",
      "\n",
      "           1       0.71      0.64      0.67      1124\n",
      "           2       0.84      0.66      0.74       836\n",
      "           3       0.88      0.90      0.89      3098\n",
      "           4       0.69      0.56      0.62      3054\n",
      "           5       0.69      0.88      0.77      2986\n",
      "\n",
      "    accuracy                           0.76     11098\n",
      "   macro avg       0.76      0.73      0.74     11098\n",
      "weighted avg       0.76      0.76      0.75     11098\n",
      "\n",
      "73.80999192717489\n"
     ]
    }
   ],
   "source": [
    "from catboost import CatBoostClassifier\n",
    "model_cgb = CatBoostClassifier(n_estimators=500,learning_rate=0.08, max_depth=6) #n_estimators=500,learning_rate=0.08, max_depth=6 -73.625\n",
    "model_cgb.fit(X_train,y_train)\n",
    "pred_cgb=model_cgb.predict(X_test)\n",
    "print (classification_report(y_test,pred_cgb))\n",
    "score = 100 * f1_score(y_test,pred_cgb, average=\"macro\")\n",
    "print(score)"
   ]
  },
  {
   "cell_type": "code",
   "execution_count": 57,
   "metadata": {},
   "outputs": [
    {
     "data": {
      "text/plain": [
       "<matplotlib.axes._subplots.AxesSubplot at 0x2615f16f0a0>"
      ]
     },
     "execution_count": 57,
     "metadata": {},
     "output_type": "execute_result"
    },
    {
     "data": {
      "image/png": "[encoded data removed]",
      "text/plain": [
       "<Figure size 576x432 with 1 Axes>"
      ]
     },
     "metadata": {
      "needs_background": "light"
     },
     "output_type": "display_data"
    }
   ],
   "source": [
    "#feature importance\n",
    "\n",
    "imp_feat=pd.Series(model_cgb.feature_importances_,index=feature)\n",
    "plt.figure(figsize=(8,6))\n",
    "imp_feat.sort_values(ascending=False)[:15].plot(kind='bar')"
   ]
  },
  {
   "cell_type": "markdown",
   "metadata": {},
   "source": [
    "### XGBClassifier"
   ]
  },
  {
   "cell_type": "code",
   "execution_count": 58,
   "metadata": {},
   "outputs": [],
   "source": [
    "# from xgboost import XGBClassifier\n",
    "# model_xgb = XGBClassifier(n_estimators=500,learning_rate=0.08, max_depth=6,reg_lambda=2) #77.8386\n",
    "# model_xgb.fit(X_train,y_train)\n",
    "# pred_xgb=model_xgb.predict(X_test)\n",
    "# print (classification_report(y_test,pred_xgb))\n",
    "# score = 100 * f1_score(y_test,pred_xgb, average=\"macro\")\n",
    "# print(score)"
   ]
  },
  {
   "cell_type": "markdown",
   "metadata": {},
   "source": [
    "### Predict the test set"
   ]
  },
  {
   "cell_type": "code",
   "execution_count": 59,
   "metadata": {},
   "outputs": [],
   "source": [
    "#create a dataframe with final prediction of test set and ID \n",
    "\n",
    "# pred_final = model_xgb.predict(df_test)/\n",
    "pred_final = model_cgb.predict(df_test).flatten()\n",
    "final_df = pd.DataFrame({'customer_id':test_df_cus_id,'churn_risk_score':pred_final})"
   ]
  },
  {
   "cell_type": "code",
   "execution_count": 60,
   "metadata": {},
   "outputs": [
    {
     "data": {
      "text/html": [
       "<div>\n",
       "<style scoped>\n",
       "    .dataframe tbody tr th:only-of-type {\n",
       "        vertical-align: middle;\n",
       "    }\n",
       "\n",
       "    .dataframe tbody tr th {\n",
       "        vertical-align: top;\n",
       "    }\n",
       "\n",
       "    .dataframe thead th {\n",
       "        text-align: right;\n",
       "    }\n",
       "</style>\n",
       "<table border=\"1\" class=\"dataframe\">\n",
       "  <thead>\n",
       "    <tr style=\"text-align: right;\">\n",
       "      <th></th>\n",
       "      <th>customer_id</th>\n",
       "      <th>churn_risk_score</th>\n",
       "    </tr>\n",
       "  </thead>\n",
       "  <tbody>\n",
       "    <tr>\n",
       "      <th>0</th>\n",
       "      <td>fffe43004900440031003700300030003400</td>\n",
       "      <td>3</td>\n",
       "    </tr>\n",
       "    <tr>\n",
       "      <th>1</th>\n",
       "      <td>fffe43004900440031003900370037003300</td>\n",
       "      <td>3</td>\n",
       "    </tr>\n",
       "    <tr>\n",
       "      <th>2</th>\n",
       "      <td>fffe43004900440034003800360037003000</td>\n",
       "      <td>3</td>\n",
       "    </tr>\n",
       "    <tr>\n",
       "      <th>3</th>\n",
       "      <td>fffe43004900440036003200370033003400</td>\n",
       "      <td>3</td>\n",
       "    </tr>\n",
       "    <tr>\n",
       "      <th>4</th>\n",
       "      <td>fffe43004900440035003000370031003900</td>\n",
       "      <td>5</td>\n",
       "    </tr>\n",
       "  </tbody>\n",
       "</table>\n",
       "</div>"
      ],
      "text/plain": [
       "                            customer_id  churn_risk_score\n",
       "0  fffe43004900440031003700300030003400                 3\n",
       "1  fffe43004900440031003900370037003300                 3\n",
       "2  fffe43004900440034003800360037003000                 3\n",
       "3  fffe43004900440036003200370033003400                 3\n",
       "4  fffe43004900440035003000370031003900                 5"
      ]
     },
     "execution_count": 60,
     "metadata": {},
     "output_type": "execute_result"
    }
   ],
   "source": [
    "# final_df.head()\n",
    "final_df.head()"
   ]
  },
  {
   "cell_type": "code",
   "execution_count": 61,
   "metadata": {},
   "outputs": [],
   "source": [
    "# convert the final dataframe into csv\n",
    "\n",
    "# final_df.to_csv('Submission 1204.csv',index=False)"
   ]
  }
 ],
 "metadata": {
  "kernelspec": {
   "display_name": "Python 3",
   "language": "python",
   "name": "python3"
  },
  "language_info": {
   "codemirror_mode": {
    "name": "ipython",
    "version": 3
   },
   "file_extension": ".py",
   "mimetype": "text/x-python",
   "name": "python",
   "nbconvert_exporter": "python",
   "pygments_lexer": "ipython3",
   "version": "3.8.3"
  },
  "widgets": {
   "application/vnd.jupyter.widget-state+json": {
    "state": {},
    "version_major": 2,
    "version_minor": 0
   }
  }
 },
 "nbformat": 4,
 "nbformat_minor": 4
}
